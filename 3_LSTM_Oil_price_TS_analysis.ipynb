{
  "cells": [
    {
      "cell_type": "markdown",
      "metadata": {
        "id": "view-in-github",
        "colab_type": "text"
      },
      "source": [
        "<a href=\"https://colab.research.google.com/github/soulayman-al-abdallah/TimeSeries-OilPrice-Analysis/blob/main/3_LSTM_Oil_price_TS_analysis.ipynb\" target=\"_parent\"><img src=\"https://colab.research.google.com/assets/colab-badge.svg\" alt=\"Open In Colab\"/></a>"
      ]
    },
    {
      "cell_type": "markdown",
      "source": [
        "Oil Price Time series data analysis and modeling.\n",
        "\n",
        "Data downloaded from [here](https://github.com/soulayman-al-abdallah/public-repo.git)\n",
        "\n",
        "Steps applied:\n",
        "- Data Cleaning\n",
        "- Data Visualizing\n",
        "- LSTM model design, fitting, forecasting and evaluating\n"
      ],
      "metadata": {
        "id": "mdH6Slj82JSO"
      }
    },
    {
      "cell_type": "markdown",
      "source": [
        "\n",
        "\n",
        "---\n",
        "\n"
      ],
      "metadata": {
        "id": "u4JLntsr_egs"
      }
    },
    {
      "cell_type": "markdown",
      "metadata": {
        "id": "0ybeHAjVEytv"
      },
      "source": [
        "# Importing and Cleaning data"
      ]
    },
    {
      "cell_type": "code",
      "execution_count": null,
      "metadata": {
        "id": "Y-kVXva5DGqI"
      },
      "outputs": [],
      "source": [
        "import numpy as np\n",
        "import pandas as pd\n",
        "import matplotlib.pyplot as plt\n",
        "import seaborn as sns\n",
        "import datetime\n",
        "from sklearn import preprocessing\n",
        "\n",
        "import statsmodels.tsa.api as smt    #statsmodel : imp pandas package #tsa : time series analysis\n",
        "\n",
        "from statsmodels.tsa.arima_model import ARIMA\n",
        "from pandas.plotting import autocorrelation_plot\n",
        "\n",
        "from matplotlib.pylab import rcParams\n",
        "rcParams['figure.figsize'] = 16, 8\n",
        "\n",
        "from statsmodels.tsa.stattools import adfuller, kpss\n",
        "from statsmodels.tsa.stattools import acf, pacf\n",
        "from statsmodels.graphics.tsaplots import plot_acf, plot_pacf\n",
        "from statsmodels.tsa.arima_model import ARIMA\n",
        "from scipy.stats import chisquare\n",
        "import itertools\n",
        "import warnings \n",
        "warnings.filterwarnings('ignore')"
      ]
    },
    {
      "cell_type": "code",
      "execution_count": null,
      "metadata": {
        "id": "W_gCmuEzok1e"
      },
      "outputs": [],
      "source": [
        "!pip install pmdarima"
      ]
    },
    {
      "cell_type": "code",
      "execution_count": null,
      "metadata": {
        "colab": {
          "base_uri": "https://localhost:8080/"
        },
        "id": "LqvZWP396tLf",
        "outputId": "63958c10-0b96-4613-d6ff-f9b02efa5053"
      },
      "outputs": [
        {
          "output_type": "stream",
          "name": "stdout",
          "text": [
            "Cloning into 'public-repo'...\n",
            "remote: Enumerating objects: 12, done.\u001b[K\n",
            "remote: Counting objects: 100% (12/12), done.\u001b[K\n",
            "remote: Compressing objects: 100% (11/11), done.\u001b[K\n",
            "remote: Total 12 (delta 2), reused 0 (delta 0), pack-reused 0\u001b[K\n",
            "Unpacking objects: 100% (12/12), 5.82 MiB | 4.05 MiB/s, done.\n"
          ]
        }
      ],
      "source": [
        "!git clone https://github.com/soulayman-al-abdallah/public-repo.git"
      ]
    },
    {
      "cell_type": "code",
      "execution_count": null,
      "metadata": {
        "colab": {
          "base_uri": "https://localhost:8080/",
          "height": 423
        },
        "id": "KUZWwUJ_DKsZ",
        "outputId": "c4fc30f5-790a-4b87-c657-6ebbbfacbc79"
      },
      "outputs": [
        {
          "output_type": "execute_result",
          "data": {
            "text/plain": [
              "            Date  Price\n",
              "0     1987-05-20  18.63\n",
              "1     1987-05-21  18.45\n",
              "2     1987-05-22  18.55\n",
              "3     1987-05-25  18.60\n",
              "4     1987-05-26  18.63\n",
              "...          ...    ...\n",
              "7636  2017-06-20  43.98\n",
              "7637  2017-06-21  44.62\n",
              "7638  2017-06-22  44.46\n",
              "7639  2017-06-23  44.14\n",
              "7640  2017-06-26  44.09\n",
              "\n",
              "[7641 rows x 2 columns]"
            ],
            "text/html": [
              "\n",
              "  <div id=\"df-970f2b74-cb7f-4be5-9f07-4b9df57af7d7\">\n",
              "    <div class=\"colab-df-container\">\n",
              "      <div>\n",
              "<style scoped>\n",
              "    .dataframe tbody tr th:only-of-type {\n",
              "        vertical-align: middle;\n",
              "    }\n",
              "\n",
              "    .dataframe tbody tr th {\n",
              "        vertical-align: top;\n",
              "    }\n",
              "\n",
              "    .dataframe thead th {\n",
              "        text-align: right;\n",
              "    }\n",
              "</style>\n",
              "<table border=\"1\" class=\"dataframe\">\n",
              "  <thead>\n",
              "    <tr style=\"text-align: right;\">\n",
              "      <th></th>\n",
              "      <th>Date</th>\n",
              "      <th>Price</th>\n",
              "    </tr>\n",
              "  </thead>\n",
              "  <tbody>\n",
              "    <tr>\n",
              "      <th>0</th>\n",
              "      <td>1987-05-20</td>\n",
              "      <td>18.63</td>\n",
              "    </tr>\n",
              "    <tr>\n",
              "      <th>1</th>\n",
              "      <td>1987-05-21</td>\n",
              "      <td>18.45</td>\n",
              "    </tr>\n",
              "    <tr>\n",
              "      <th>2</th>\n",
              "      <td>1987-05-22</td>\n",
              "      <td>18.55</td>\n",
              "    </tr>\n",
              "    <tr>\n",
              "      <th>3</th>\n",
              "      <td>1987-05-25</td>\n",
              "      <td>18.60</td>\n",
              "    </tr>\n",
              "    <tr>\n",
              "      <th>4</th>\n",
              "      <td>1987-05-26</td>\n",
              "      <td>18.63</td>\n",
              "    </tr>\n",
              "    <tr>\n",
              "      <th>...</th>\n",
              "      <td>...</td>\n",
              "      <td>...</td>\n",
              "    </tr>\n",
              "    <tr>\n",
              "      <th>7636</th>\n",
              "      <td>2017-06-20</td>\n",
              "      <td>43.98</td>\n",
              "    </tr>\n",
              "    <tr>\n",
              "      <th>7637</th>\n",
              "      <td>2017-06-21</td>\n",
              "      <td>44.62</td>\n",
              "    </tr>\n",
              "    <tr>\n",
              "      <th>7638</th>\n",
              "      <td>2017-06-22</td>\n",
              "      <td>44.46</td>\n",
              "    </tr>\n",
              "    <tr>\n",
              "      <th>7639</th>\n",
              "      <td>2017-06-23</td>\n",
              "      <td>44.14</td>\n",
              "    </tr>\n",
              "    <tr>\n",
              "      <th>7640</th>\n",
              "      <td>2017-06-26</td>\n",
              "      <td>44.09</td>\n",
              "    </tr>\n",
              "  </tbody>\n",
              "</table>\n",
              "<p>7641 rows × 2 columns</p>\n",
              "</div>\n",
              "      <button class=\"colab-df-convert\" onclick=\"convertToInteractive('df-970f2b74-cb7f-4be5-9f07-4b9df57af7d7')\"\n",
              "              title=\"Convert this dataframe to an interactive table.\"\n",
              "              style=\"display:none;\">\n",
              "        \n",
              "  <svg xmlns=\"http://www.w3.org/2000/svg\" height=\"24px\"viewBox=\"0 0 24 24\"\n",
              "       width=\"24px\">\n",
              "    <path d=\"M0 0h24v24H0V0z\" fill=\"none\"/>\n",
              "    <path d=\"M18.56 5.44l.94 2.06.94-2.06 2.06-.94-2.06-.94-.94-2.06-.94 2.06-2.06.94zm-11 1L8.5 8.5l.94-2.06 2.06-.94-2.06-.94L8.5 2.5l-.94 2.06-2.06.94zm10 10l.94 2.06.94-2.06 2.06-.94-2.06-.94-.94-2.06-.94 2.06-2.06.94z\"/><path d=\"M17.41 7.96l-1.37-1.37c-.4-.4-.92-.59-1.43-.59-.52 0-1.04.2-1.43.59L10.3 9.45l-7.72 7.72c-.78.78-.78 2.05 0 2.83L4 21.41c.39.39.9.59 1.41.59.51 0 1.02-.2 1.41-.59l7.78-7.78 2.81-2.81c.8-.78.8-2.07 0-2.86zM5.41 20L4 18.59l7.72-7.72 1.47 1.35L5.41 20z\"/>\n",
              "  </svg>\n",
              "      </button>\n",
              "      \n",
              "  <style>\n",
              "    .colab-df-container {\n",
              "      display:flex;\n",
              "      flex-wrap:wrap;\n",
              "      gap: 12px;\n",
              "    }\n",
              "\n",
              "    .colab-df-convert {\n",
              "      background-color: #E8F0FE;\n",
              "      border: none;\n",
              "      border-radius: 50%;\n",
              "      cursor: pointer;\n",
              "      display: none;\n",
              "      fill: #1967D2;\n",
              "      height: 32px;\n",
              "      padding: 0 0 0 0;\n",
              "      width: 32px;\n",
              "    }\n",
              "\n",
              "    .colab-df-convert:hover {\n",
              "      background-color: #E2EBFA;\n",
              "      box-shadow: 0px 1px 2px rgba(60, 64, 67, 0.3), 0px 1px 3px 1px rgba(60, 64, 67, 0.15);\n",
              "      fill: #174EA6;\n",
              "    }\n",
              "\n",
              "    [theme=dark] .colab-df-convert {\n",
              "      background-color: #3B4455;\n",
              "      fill: #D2E3FC;\n",
              "    }\n",
              "\n",
              "    [theme=dark] .colab-df-convert:hover {\n",
              "      background-color: #434B5C;\n",
              "      box-shadow: 0px 1px 3px 1px rgba(0, 0, 0, 0.15);\n",
              "      filter: drop-shadow(0px 1px 2px rgba(0, 0, 0, 0.3));\n",
              "      fill: #FFFFFF;\n",
              "    }\n",
              "  </style>\n",
              "\n",
              "      <script>\n",
              "        const buttonEl =\n",
              "          document.querySelector('#df-970f2b74-cb7f-4be5-9f07-4b9df57af7d7 button.colab-df-convert');\n",
              "        buttonEl.style.display =\n",
              "          google.colab.kernel.accessAllowed ? 'block' : 'none';\n",
              "\n",
              "        async function convertToInteractive(key) {\n",
              "          const element = document.querySelector('#df-970f2b74-cb7f-4be5-9f07-4b9df57af7d7');\n",
              "          const dataTable =\n",
              "            await google.colab.kernel.invokeFunction('convertToInteractive',\n",
              "                                                     [key], {});\n",
              "          if (!dataTable) return;\n",
              "\n",
              "          const docLinkHtml = 'Like what you see? Visit the ' +\n",
              "            '<a target=\"_blank\" href=https://colab.research.google.com/notebooks/data_table.ipynb>data table notebook</a>'\n",
              "            + ' to learn more about interactive tables.';\n",
              "          element.innerHTML = '';\n",
              "          dataTable['output_type'] = 'display_data';\n",
              "          await google.colab.output.renderOutput(dataTable, element);\n",
              "          const docLink = document.createElement('div');\n",
              "          docLink.innerHTML = docLinkHtml;\n",
              "          element.appendChild(docLink);\n",
              "        }\n",
              "      </script>\n",
              "    </div>\n",
              "  </div>\n",
              "  "
            ]
          },
          "metadata": {},
          "execution_count": 4
        }
      ],
      "source": [
        "df = pd.read_csv('/content/public-repo/BrentOilPrice.csv').drop(['Unnamed: 0'],axis=1)\n",
        "df"
      ]
    },
    {
      "cell_type": "code",
      "execution_count": null,
      "metadata": {
        "colab": {
          "base_uri": "https://localhost:8080/",
          "height": 143
        },
        "id": "J2gY4sDlEIcO",
        "outputId": "8ece6fc8-7ae5-4641-a2c6-ca8303c4d753"
      },
      "outputs": [
        {
          "output_type": "execute_result",
          "data": {
            "text/plain": [
              "        Date  Price\n",
              "0 1987-05-20  18.63\n",
              "1 1987-05-21  18.45\n",
              "2 1987-05-22  18.55"
            ],
            "text/html": [
              "\n",
              "  <div id=\"df-0814d352-3d4e-4642-8093-897657bfb60a\">\n",
              "    <div class=\"colab-df-container\">\n",
              "      <div>\n",
              "<style scoped>\n",
              "    .dataframe tbody tr th:only-of-type {\n",
              "        vertical-align: middle;\n",
              "    }\n",
              "\n",
              "    .dataframe tbody tr th {\n",
              "        vertical-align: top;\n",
              "    }\n",
              "\n",
              "    .dataframe thead th {\n",
              "        text-align: right;\n",
              "    }\n",
              "</style>\n",
              "<table border=\"1\" class=\"dataframe\">\n",
              "  <thead>\n",
              "    <tr style=\"text-align: right;\">\n",
              "      <th></th>\n",
              "      <th>Date</th>\n",
              "      <th>Price</th>\n",
              "    </tr>\n",
              "  </thead>\n",
              "  <tbody>\n",
              "    <tr>\n",
              "      <th>0</th>\n",
              "      <td>1987-05-20</td>\n",
              "      <td>18.63</td>\n",
              "    </tr>\n",
              "    <tr>\n",
              "      <th>1</th>\n",
              "      <td>1987-05-21</td>\n",
              "      <td>18.45</td>\n",
              "    </tr>\n",
              "    <tr>\n",
              "      <th>2</th>\n",
              "      <td>1987-05-22</td>\n",
              "      <td>18.55</td>\n",
              "    </tr>\n",
              "  </tbody>\n",
              "</table>\n",
              "</div>\n",
              "      <button class=\"colab-df-convert\" onclick=\"convertToInteractive('df-0814d352-3d4e-4642-8093-897657bfb60a')\"\n",
              "              title=\"Convert this dataframe to an interactive table.\"\n",
              "              style=\"display:none;\">\n",
              "        \n",
              "  <svg xmlns=\"http://www.w3.org/2000/svg\" height=\"24px\"viewBox=\"0 0 24 24\"\n",
              "       width=\"24px\">\n",
              "    <path d=\"M0 0h24v24H0V0z\" fill=\"none\"/>\n",
              "    <path d=\"M18.56 5.44l.94 2.06.94-2.06 2.06-.94-2.06-.94-.94-2.06-.94 2.06-2.06.94zm-11 1L8.5 8.5l.94-2.06 2.06-.94-2.06-.94L8.5 2.5l-.94 2.06-2.06.94zm10 10l.94 2.06.94-2.06 2.06-.94-2.06-.94-.94-2.06-.94 2.06-2.06.94z\"/><path d=\"M17.41 7.96l-1.37-1.37c-.4-.4-.92-.59-1.43-.59-.52 0-1.04.2-1.43.59L10.3 9.45l-7.72 7.72c-.78.78-.78 2.05 0 2.83L4 21.41c.39.39.9.59 1.41.59.51 0 1.02-.2 1.41-.59l7.78-7.78 2.81-2.81c.8-.78.8-2.07 0-2.86zM5.41 20L4 18.59l7.72-7.72 1.47 1.35L5.41 20z\"/>\n",
              "  </svg>\n",
              "      </button>\n",
              "      \n",
              "  <style>\n",
              "    .colab-df-container {\n",
              "      display:flex;\n",
              "      flex-wrap:wrap;\n",
              "      gap: 12px;\n",
              "    }\n",
              "\n",
              "    .colab-df-convert {\n",
              "      background-color: #E8F0FE;\n",
              "      border: none;\n",
              "      border-radius: 50%;\n",
              "      cursor: pointer;\n",
              "      display: none;\n",
              "      fill: #1967D2;\n",
              "      height: 32px;\n",
              "      padding: 0 0 0 0;\n",
              "      width: 32px;\n",
              "    }\n",
              "\n",
              "    .colab-df-convert:hover {\n",
              "      background-color: #E2EBFA;\n",
              "      box-shadow: 0px 1px 2px rgba(60, 64, 67, 0.3), 0px 1px 3px 1px rgba(60, 64, 67, 0.15);\n",
              "      fill: #174EA6;\n",
              "    }\n",
              "\n",
              "    [theme=dark] .colab-df-convert {\n",
              "      background-color: #3B4455;\n",
              "      fill: #D2E3FC;\n",
              "    }\n",
              "\n",
              "    [theme=dark] .colab-df-convert:hover {\n",
              "      background-color: #434B5C;\n",
              "      box-shadow: 0px 1px 3px 1px rgba(0, 0, 0, 0.15);\n",
              "      filter: drop-shadow(0px 1px 2px rgba(0, 0, 0, 0.3));\n",
              "      fill: #FFFFFF;\n",
              "    }\n",
              "  </style>\n",
              "\n",
              "      <script>\n",
              "        const buttonEl =\n",
              "          document.querySelector('#df-0814d352-3d4e-4642-8093-897657bfb60a button.colab-df-convert');\n",
              "        buttonEl.style.display =\n",
              "          google.colab.kernel.accessAllowed ? 'block' : 'none';\n",
              "\n",
              "        async function convertToInteractive(key) {\n",
              "          const element = document.querySelector('#df-0814d352-3d4e-4642-8093-897657bfb60a');\n",
              "          const dataTable =\n",
              "            await google.colab.kernel.invokeFunction('convertToInteractive',\n",
              "                                                     [key], {});\n",
              "          if (!dataTable) return;\n",
              "\n",
              "          const docLinkHtml = 'Like what you see? Visit the ' +\n",
              "            '<a target=\"_blank\" href=https://colab.research.google.com/notebooks/data_table.ipynb>data table notebook</a>'\n",
              "            + ' to learn more about interactive tables.';\n",
              "          element.innerHTML = '';\n",
              "          dataTable['output_type'] = 'display_data';\n",
              "          await google.colab.output.renderOutput(dataTable, element);\n",
              "          const docLink = document.createElement('div');\n",
              "          docLink.innerHTML = docLinkHtml;\n",
              "          element.appendChild(docLink);\n",
              "        }\n",
              "      </script>\n",
              "    </div>\n",
              "  </div>\n",
              "  "
            ]
          },
          "metadata": {},
          "execution_count": 5
        }
      ],
      "source": [
        "# Converting Date column to a datetime data type\n",
        "df[\"Date\"] = pd.to_datetime(df['Date']) \n",
        "df.head(3)"
      ]
    },
    {
      "cell_type": "code",
      "source": [
        "df.tail(3)"
      ],
      "metadata": {
        "colab": {
          "base_uri": "https://localhost:8080/",
          "height": 143
        },
        "id": "FzNZ66ncGw1J",
        "outputId": "d9b69ab5-4121-453c-a0e0-faa037f6b04b"
      },
      "execution_count": null,
      "outputs": [
        {
          "output_type": "execute_result",
          "data": {
            "text/plain": [
              "           Date  Price  Year  Month\n",
              "7638 2017-06-22  44.46  2017      6\n",
              "7639 2017-06-23  44.14  2017      6\n",
              "7640 2017-06-26  44.09  2017      6"
            ],
            "text/html": [
              "\n",
              "  <div id=\"df-8e1e5e79-a149-43b9-a751-f9004893ecb7\">\n",
              "    <div class=\"colab-df-container\">\n",
              "      <div>\n",
              "<style scoped>\n",
              "    .dataframe tbody tr th:only-of-type {\n",
              "        vertical-align: middle;\n",
              "    }\n",
              "\n",
              "    .dataframe tbody tr th {\n",
              "        vertical-align: top;\n",
              "    }\n",
              "\n",
              "    .dataframe thead th {\n",
              "        text-align: right;\n",
              "    }\n",
              "</style>\n",
              "<table border=\"1\" class=\"dataframe\">\n",
              "  <thead>\n",
              "    <tr style=\"text-align: right;\">\n",
              "      <th></th>\n",
              "      <th>Date</th>\n",
              "      <th>Price</th>\n",
              "      <th>Year</th>\n",
              "      <th>Month</th>\n",
              "    </tr>\n",
              "  </thead>\n",
              "  <tbody>\n",
              "    <tr>\n",
              "      <th>7638</th>\n",
              "      <td>2017-06-22</td>\n",
              "      <td>44.46</td>\n",
              "      <td>2017</td>\n",
              "      <td>6</td>\n",
              "    </tr>\n",
              "    <tr>\n",
              "      <th>7639</th>\n",
              "      <td>2017-06-23</td>\n",
              "      <td>44.14</td>\n",
              "      <td>2017</td>\n",
              "      <td>6</td>\n",
              "    </tr>\n",
              "    <tr>\n",
              "      <th>7640</th>\n",
              "      <td>2017-06-26</td>\n",
              "      <td>44.09</td>\n",
              "      <td>2017</td>\n",
              "      <td>6</td>\n",
              "    </tr>\n",
              "  </tbody>\n",
              "</table>\n",
              "</div>\n",
              "      <button class=\"colab-df-convert\" onclick=\"convertToInteractive('df-8e1e5e79-a149-43b9-a751-f9004893ecb7')\"\n",
              "              title=\"Convert this dataframe to an interactive table.\"\n",
              "              style=\"display:none;\">\n",
              "        \n",
              "  <svg xmlns=\"http://www.w3.org/2000/svg\" height=\"24px\"viewBox=\"0 0 24 24\"\n",
              "       width=\"24px\">\n",
              "    <path d=\"M0 0h24v24H0V0z\" fill=\"none\"/>\n",
              "    <path d=\"M18.56 5.44l.94 2.06.94-2.06 2.06-.94-2.06-.94-.94-2.06-.94 2.06-2.06.94zm-11 1L8.5 8.5l.94-2.06 2.06-.94-2.06-.94L8.5 2.5l-.94 2.06-2.06.94zm10 10l.94 2.06.94-2.06 2.06-.94-2.06-.94-.94-2.06-.94 2.06-2.06.94z\"/><path d=\"M17.41 7.96l-1.37-1.37c-.4-.4-.92-.59-1.43-.59-.52 0-1.04.2-1.43.59L10.3 9.45l-7.72 7.72c-.78.78-.78 2.05 0 2.83L4 21.41c.39.39.9.59 1.41.59.51 0 1.02-.2 1.41-.59l7.78-7.78 2.81-2.81c.8-.78.8-2.07 0-2.86zM5.41 20L4 18.59l7.72-7.72 1.47 1.35L5.41 20z\"/>\n",
              "  </svg>\n",
              "      </button>\n",
              "      \n",
              "  <style>\n",
              "    .colab-df-container {\n",
              "      display:flex;\n",
              "      flex-wrap:wrap;\n",
              "      gap: 12px;\n",
              "    }\n",
              "\n",
              "    .colab-df-convert {\n",
              "      background-color: #E8F0FE;\n",
              "      border: none;\n",
              "      border-radius: 50%;\n",
              "      cursor: pointer;\n",
              "      display: none;\n",
              "      fill: #1967D2;\n",
              "      height: 32px;\n",
              "      padding: 0 0 0 0;\n",
              "      width: 32px;\n",
              "    }\n",
              "\n",
              "    .colab-df-convert:hover {\n",
              "      background-color: #E2EBFA;\n",
              "      box-shadow: 0px 1px 2px rgba(60, 64, 67, 0.3), 0px 1px 3px 1px rgba(60, 64, 67, 0.15);\n",
              "      fill: #174EA6;\n",
              "    }\n",
              "\n",
              "    [theme=dark] .colab-df-convert {\n",
              "      background-color: #3B4455;\n",
              "      fill: #D2E3FC;\n",
              "    }\n",
              "\n",
              "    [theme=dark] .colab-df-convert:hover {\n",
              "      background-color: #434B5C;\n",
              "      box-shadow: 0px 1px 3px 1px rgba(0, 0, 0, 0.15);\n",
              "      filter: drop-shadow(0px 1px 2px rgba(0, 0, 0, 0.3));\n",
              "      fill: #FFFFFF;\n",
              "    }\n",
              "  </style>\n",
              "\n",
              "      <script>\n",
              "        const buttonEl =\n",
              "          document.querySelector('#df-8e1e5e79-a149-43b9-a751-f9004893ecb7 button.colab-df-convert');\n",
              "        buttonEl.style.display =\n",
              "          google.colab.kernel.accessAllowed ? 'block' : 'none';\n",
              "\n",
              "        async function convertToInteractive(key) {\n",
              "          const element = document.querySelector('#df-8e1e5e79-a149-43b9-a751-f9004893ecb7');\n",
              "          const dataTable =\n",
              "            await google.colab.kernel.invokeFunction('convertToInteractive',\n",
              "                                                     [key], {});\n",
              "          if (!dataTable) return;\n",
              "\n",
              "          const docLinkHtml = 'Like what you see? Visit the ' +\n",
              "            '<a target=\"_blank\" href=https://colab.research.google.com/notebooks/data_table.ipynb>data table notebook</a>'\n",
              "            + ' to learn more about interactive tables.';\n",
              "          element.innerHTML = '';\n",
              "          dataTable['output_type'] = 'display_data';\n",
              "          await google.colab.output.renderOutput(dataTable, element);\n",
              "          const docLink = document.createElement('div');\n",
              "          docLink.innerHTML = docLinkHtml;\n",
              "          element.appendChild(docLink);\n",
              "        }\n",
              "      </script>\n",
              "    </div>\n",
              "  </div>\n",
              "  "
            ]
          },
          "metadata": {},
          "execution_count": 16
        }
      ]
    },
    {
      "cell_type": "code",
      "execution_count": null,
      "metadata": {
        "colab": {
          "base_uri": "https://localhost:8080/"
        },
        "id": "CLFyNKdoEX9A",
        "outputId": "6d873c14-dba7-4758-e165-6467d8bc450e"
      },
      "outputs": [
        {
          "output_type": "stream",
          "name": "stdout",
          "text": [
            "(7641, 2)\n",
            "             Price\n",
            "count  7641.000000\n",
            "mean     44.875166\n",
            "std      33.383360\n",
            "min       9.100000\n",
            "25%      18.500000\n",
            "50%      28.460000\n",
            "75%      64.700000\n",
            "max     143.950000\n"
          ]
        }
      ],
      "source": [
        "# Get the shape of the dataset\n",
        "print(df.shape)\n",
        "# Statistical characteristics of the dataset\n",
        "print(df.describe())"
      ]
    },
    {
      "cell_type": "code",
      "execution_count": null,
      "metadata": {
        "colab": {
          "base_uri": "https://localhost:8080/"
        },
        "id": "jbTibXoHEoeC",
        "outputId": "abed88fe-4dae-4198-d594-079b94747df6"
      },
      "outputs": [
        {
          "output_type": "stream",
          "name": "stdout",
          "text": [
            "Date     0\n",
            "Price    0\n",
            "dtype: int64\n"
          ]
        }
      ],
      "source": [
        "# To check if the data contains any null value\n",
        "print(df.isnull().sum()) "
      ]
    },
    {
      "cell_type": "markdown",
      "metadata": {
        "id": "sMyi6eIFE3wA"
      },
      "source": [
        "\n",
        "\n",
        "---\n",
        "\n"
      ]
    },
    {
      "cell_type": "markdown",
      "metadata": {
        "id": "HlA0LzrqE4qd"
      },
      "source": [
        "#Visualizing data"
      ]
    },
    {
      "cell_type": "code",
      "execution_count": null,
      "metadata": {
        "colab": {
          "base_uri": "https://localhost:8080/",
          "height": 483
        },
        "id": "4kIh7ZIrFBFj",
        "outputId": "d8692c0e-9cb2-4963-9c5a-9de2dc316ea6"
      },
      "outputs": [
        {
          "output_type": "execute_result",
          "data": {
            "text/plain": [
              "<matplotlib.axes._subplots.AxesSubplot at 0x7f6cb05a1e20>"
            ]
          },
          "metadata": {},
          "execution_count": 8
        },
        {
          "output_type": "display_data",
          "data": {
            "text/plain": [
              "<Figure size 1440x576 with 1 Axes>"
            ],
            "image/png": "[encoded data removed]"
          },
          "metadata": {
            "needs_background": "light"
          }
        }
      ],
      "source": [
        "df.plot(x='Date' , y='Price', figsize=(20,8), grid=True)"
      ]
    },
    {
      "cell_type": "code",
      "execution_count": null,
      "metadata": {
        "colab": {
          "base_uri": "https://localhost:8080/",
          "height": 143
        },
        "id": "pFOKHY-9FTLM",
        "outputId": "bdc7f50d-4c98-47df-cbef-20b87595ca23"
      },
      "outputs": [
        {
          "output_type": "execute_result",
          "data": {
            "text/plain": [
              "        Date  Price  Year  Month\n",
              "0 1987-05-20  18.63  1987      5\n",
              "1 1987-05-21  18.45  1987      5\n",
              "2 1987-05-22  18.55  1987      5"
            ],
            "text/html": [
              "\n",
              "  <div id=\"df-c197e270-f329-431e-b752-25e879bb3e99\">\n",
              "    <div class=\"colab-df-container\">\n",
              "      <div>\n",
              "<style scoped>\n",
              "    .dataframe tbody tr th:only-of-type {\n",
              "        vertical-align: middle;\n",
              "    }\n",
              "\n",
              "    .dataframe tbody tr th {\n",
              "        vertical-align: top;\n",
              "    }\n",
              "\n",
              "    .dataframe thead th {\n",
              "        text-align: right;\n",
              "    }\n",
              "</style>\n",
              "<table border=\"1\" class=\"dataframe\">\n",
              "  <thead>\n",
              "    <tr style=\"text-align: right;\">\n",
              "      <th></th>\n",
              "      <th>Date</th>\n",
              "      <th>Price</th>\n",
              "      <th>Year</th>\n",
              "      <th>Month</th>\n",
              "    </tr>\n",
              "  </thead>\n",
              "  <tbody>\n",
              "    <tr>\n",
              "      <th>0</th>\n",
              "      <td>1987-05-20</td>\n",
              "      <td>18.63</td>\n",
              "      <td>1987</td>\n",
              "      <td>5</td>\n",
              "    </tr>\n",
              "    <tr>\n",
              "      <th>1</th>\n",
              "      <td>1987-05-21</td>\n",
              "      <td>18.45</td>\n",
              "      <td>1987</td>\n",
              "      <td>5</td>\n",
              "    </tr>\n",
              "    <tr>\n",
              "      <th>2</th>\n",
              "      <td>1987-05-22</td>\n",
              "      <td>18.55</td>\n",
              "      <td>1987</td>\n",
              "      <td>5</td>\n",
              "    </tr>\n",
              "  </tbody>\n",
              "</table>\n",
              "</div>\n",
              "      <button class=\"colab-df-convert\" onclick=\"convertToInteractive('df-c197e270-f329-431e-b752-25e879bb3e99')\"\n",
              "              title=\"Convert this dataframe to an interactive table.\"\n",
              "              style=\"display:none;\">\n",
              "        \n",
              "  <svg xmlns=\"http://www.w3.org/2000/svg\" height=\"24px\"viewBox=\"0 0 24 24\"\n",
              "       width=\"24px\">\n",
              "    <path d=\"M0 0h24v24H0V0z\" fill=\"none\"/>\n",
              "    <path d=\"M18.56 5.44l.94 2.06.94-2.06 2.06-.94-2.06-.94-.94-2.06-.94 2.06-2.06.94zm-11 1L8.5 8.5l.94-2.06 2.06-.94-2.06-.94L8.5 2.5l-.94 2.06-2.06.94zm10 10l.94 2.06.94-2.06 2.06-.94-2.06-.94-.94-2.06-.94 2.06-2.06.94z\"/><path d=\"M17.41 7.96l-1.37-1.37c-.4-.4-.92-.59-1.43-.59-.52 0-1.04.2-1.43.59L10.3 9.45l-7.72 7.72c-.78.78-.78 2.05 0 2.83L4 21.41c.39.39.9.59 1.41.59.51 0 1.02-.2 1.41-.59l7.78-7.78 2.81-2.81c.8-.78.8-2.07 0-2.86zM5.41 20L4 18.59l7.72-7.72 1.47 1.35L5.41 20z\"/>\n",
              "  </svg>\n",
              "      </button>\n",
              "      \n",
              "  <style>\n",
              "    .colab-df-container {\n",
              "      display:flex;\n",
              "      flex-wrap:wrap;\n",
              "      gap: 12px;\n",
              "    }\n",
              "\n",
              "    .colab-df-convert {\n",
              "      background-color: #E8F0FE;\n",
              "      border: none;\n",
              "      border-radius: 50%;\n",
              "      cursor: pointer;\n",
              "      display: none;\n",
              "      fill: #1967D2;\n",
              "      height: 32px;\n",
              "      padding: 0 0 0 0;\n",
              "      width: 32px;\n",
              "    }\n",
              "\n",
              "    .colab-df-convert:hover {\n",
              "      background-color: #E2EBFA;\n",
              "      box-shadow: 0px 1px 2px rgba(60, 64, 67, 0.3), 0px 1px 3px 1px rgba(60, 64, 67, 0.15);\n",
              "      fill: #174EA6;\n",
              "    }\n",
              "\n",
              "    [theme=dark] .colab-df-convert {\n",
              "      background-color: #3B4455;\n",
              "      fill: #D2E3FC;\n",
              "    }\n",
              "\n",
              "    [theme=dark] .colab-df-convert:hover {\n",
              "      background-color: #434B5C;\n",
              "      box-shadow: 0px 1px 3px 1px rgba(0, 0, 0, 0.15);\n",
              "      filter: drop-shadow(0px 1px 2px rgba(0, 0, 0, 0.3));\n",
              "      fill: #FFFFFF;\n",
              "    }\n",
              "  </style>\n",
              "\n",
              "      <script>\n",
              "        const buttonEl =\n",
              "          document.querySelector('#df-c197e270-f329-431e-b752-25e879bb3e99 button.colab-df-convert');\n",
              "        buttonEl.style.display =\n",
              "          google.colab.kernel.accessAllowed ? 'block' : 'none';\n",
              "\n",
              "        async function convertToInteractive(key) {\n",
              "          const element = document.querySelector('#df-c197e270-f329-431e-b752-25e879bb3e99');\n",
              "          const dataTable =\n",
              "            await google.colab.kernel.invokeFunction('convertToInteractive',\n",
              "                                                     [key], {});\n",
              "          if (!dataTable) return;\n",
              "\n",
              "          const docLinkHtml = 'Like what you see? Visit the ' +\n",
              "            '<a target=\"_blank\" href=https://colab.research.google.com/notebooks/data_table.ipynb>data table notebook</a>'\n",
              "            + ' to learn more about interactive tables.';\n",
              "          element.innerHTML = '';\n",
              "          dataTable['output_type'] = 'display_data';\n",
              "          await google.colab.output.renderOutput(dataTable, element);\n",
              "          const docLink = document.createElement('div');\n",
              "          docLink.innerHTML = docLinkHtml;\n",
              "          element.appendChild(docLink);\n",
              "        }\n",
              "      </script>\n",
              "    </div>\n",
              "  </div>\n",
              "  "
            ]
          },
          "metadata": {},
          "execution_count": 9
        }
      ],
      "source": [
        "# Creating a column with month and year values extracted from the date column that was converted to datetime data type\n",
        "\n",
        "df[\"Year\"] = pd.to_datetime(df[\"Date\"]).dt.year \n",
        "df[\"Month\"] = pd.to_datetime(df[\"Date\"]).dt.month\n",
        "df.head(3)"
      ]
    },
    {
      "cell_type": "code",
      "execution_count": null,
      "metadata": {
        "colab": {
          "base_uri": "https://localhost:8080/",
          "height": 497
        },
        "id": "qc96hWMkFi_j",
        "outputId": "1716818a-d8f6-4c84-fc9d-6dd7d3c0624e"
      },
      "outputs": [
        {
          "output_type": "display_data",
          "data": {
            "text/plain": [
              "<Figure size 1152x576 with 2 Axes>"
            ],
            "image/png": "[encoded data removed]"
          },
          "metadata": {
            "needs_background": "light"
          }
        }
      ],
      "source": [
        "# Plotting the heat map\n",
        "plot = df.pivot_table('Price', 'Year', 'Month')\n",
        "heatMap = sns.heatmap(plot)"
      ]
    },
    {
      "cell_type": "markdown",
      "metadata": {
        "id": "Zu9O-NprPDTk"
      },
      "source": [
        "\n",
        "\n",
        "---\n",
        "\n"
      ]
    },
    {
      "cell_type": "markdown",
      "source": [
        "#LSTM Modeling"
      ],
      "metadata": {
        "id": "GFXAy8c4NrpE"
      }
    },
    {
      "cell_type": "code",
      "source": [
        "import tensorflow as tf\n",
        "from keras.layers import Dropout\n",
        "from tensorflow.keras.layers import Dense\n",
        "from tensorflow.keras.layers import LSTM\n",
        "from tensorflow.keras.metrics import RootMeanSquaredError, MeanAbsoluteError\n",
        "from tensorflow.keras.models import Sequential"
      ],
      "metadata": {
        "id": "gYNoW2p9Ntgf"
      },
      "execution_count": null,
      "outputs": []
    },
    {
      "cell_type": "code",
      "source": [
        "df_lstm = df.drop(['Year','Month'], axis=1)\n",
        "df_lstm.head(3)"
      ],
      "metadata": {
        "colab": {
          "base_uri": "https://localhost:8080/",
          "height": 143
        },
        "id": "UHmIVCHVOV5t",
        "outputId": "0be68269-99f2-405a-e23b-f11538403493"
      },
      "execution_count": null,
      "outputs": [
        {
          "output_type": "execute_result",
          "data": {
            "text/plain": [
              "        Date  Price\n",
              "0 1987-05-20  18.63\n",
              "1 1987-05-21  18.45\n",
              "2 1987-05-22  18.55"
            ],
            "text/html": [
              "\n",
              "  <div id=\"df-385bb997-36cc-44a8-b987-b0a76847a1be\">\n",
              "    <div class=\"colab-df-container\">\n",
              "      <div>\n",
              "<style scoped>\n",
              "    .dataframe tbody tr th:only-of-type {\n",
              "        vertical-align: middle;\n",
              "    }\n",
              "\n",
              "    .dataframe tbody tr th {\n",
              "        vertical-align: top;\n",
              "    }\n",
              "\n",
              "    .dataframe thead th {\n",
              "        text-align: right;\n",
              "    }\n",
              "</style>\n",
              "<table border=\"1\" class=\"dataframe\">\n",
              "  <thead>\n",
              "    <tr style=\"text-align: right;\">\n",
              "      <th></th>\n",
              "      <th>Date</th>\n",
              "      <th>Price</th>\n",
              "    </tr>\n",
              "  </thead>\n",
              "  <tbody>\n",
              "    <tr>\n",
              "      <th>0</th>\n",
              "      <td>1987-05-20</td>\n",
              "      <td>18.63</td>\n",
              "    </tr>\n",
              "    <tr>\n",
              "      <th>1</th>\n",
              "      <td>1987-05-21</td>\n",
              "      <td>18.45</td>\n",
              "    </tr>\n",
              "    <tr>\n",
              "      <th>2</th>\n",
              "      <td>1987-05-22</td>\n",
              "      <td>18.55</td>\n",
              "    </tr>\n",
              "  </tbody>\n",
              "</table>\n",
              "</div>\n",
              "      <button class=\"colab-df-convert\" onclick=\"convertToInteractive('df-385bb997-36cc-44a8-b987-b0a76847a1be')\"\n",
              "              title=\"Convert this dataframe to an interactive table.\"\n",
              "              style=\"display:none;\">\n",
              "        \n",
              "  <svg xmlns=\"http://www.w3.org/2000/svg\" height=\"24px\"viewBox=\"0 0 24 24\"\n",
              "       width=\"24px\">\n",
              "    <path d=\"M0 0h24v24H0V0z\" fill=\"none\"/>\n",
              "    <path d=\"M18.56 5.44l.94 2.06.94-2.06 2.06-.94-2.06-.94-.94-2.06-.94 2.06-2.06.94zm-11 1L8.5 8.5l.94-2.06 2.06-.94-2.06-.94L8.5 2.5l-.94 2.06-2.06.94zm10 10l.94 2.06.94-2.06 2.06-.94-2.06-.94-.94-2.06-.94 2.06-2.06.94z\"/><path d=\"M17.41 7.96l-1.37-1.37c-.4-.4-.92-.59-1.43-.59-.52 0-1.04.2-1.43.59L10.3 9.45l-7.72 7.72c-.78.78-.78 2.05 0 2.83L4 21.41c.39.39.9.59 1.41.59.51 0 1.02-.2 1.41-.59l7.78-7.78 2.81-2.81c.8-.78.8-2.07 0-2.86zM5.41 20L4 18.59l7.72-7.72 1.47 1.35L5.41 20z\"/>\n",
              "  </svg>\n",
              "      </button>\n",
              "      \n",
              "  <style>\n",
              "    .colab-df-container {\n",
              "      display:flex;\n",
              "      flex-wrap:wrap;\n",
              "      gap: 12px;\n",
              "    }\n",
              "\n",
              "    .colab-df-convert {\n",
              "      background-color: #E8F0FE;\n",
              "      border: none;\n",
              "      border-radius: 50%;\n",
              "      cursor: pointer;\n",
              "      display: none;\n",
              "      fill: #1967D2;\n",
              "      height: 32px;\n",
              "      padding: 0 0 0 0;\n",
              "      width: 32px;\n",
              "    }\n",
              "\n",
              "    .colab-df-convert:hover {\n",
              "      background-color: #E2EBFA;\n",
              "      box-shadow: 0px 1px 2px rgba(60, 64, 67, 0.3), 0px 1px 3px 1px rgba(60, 64, 67, 0.15);\n",
              "      fill: #174EA6;\n",
              "    }\n",
              "\n",
              "    [theme=dark] .colab-df-convert {\n",
              "      background-color: #3B4455;\n",
              "      fill: #D2E3FC;\n",
              "    }\n",
              "\n",
              "    [theme=dark] .colab-df-convert:hover {\n",
              "      background-color: #434B5C;\n",
              "      box-shadow: 0px 1px 3px 1px rgba(0, 0, 0, 0.15);\n",
              "      filter: drop-shadow(0px 1px 2px rgba(0, 0, 0, 0.3));\n",
              "      fill: #FFFFFF;\n",
              "    }\n",
              "  </style>\n",
              "\n",
              "      <script>\n",
              "        const buttonEl =\n",
              "          document.querySelector('#df-385bb997-36cc-44a8-b987-b0a76847a1be button.colab-df-convert');\n",
              "        buttonEl.style.display =\n",
              "          google.colab.kernel.accessAllowed ? 'block' : 'none';\n",
              "\n",
              "        async function convertToInteractive(key) {\n",
              "          const element = document.querySelector('#df-385bb997-36cc-44a8-b987-b0a76847a1be');\n",
              "          const dataTable =\n",
              "            await google.colab.kernel.invokeFunction('convertToInteractive',\n",
              "                                                     [key], {});\n",
              "          if (!dataTable) return;\n",
              "\n",
              "          const docLinkHtml = 'Like what you see? Visit the ' +\n",
              "            '<a target=\"_blank\" href=https://colab.research.google.com/notebooks/data_table.ipynb>data table notebook</a>'\n",
              "            + ' to learn more about interactive tables.';\n",
              "          element.innerHTML = '';\n",
              "          dataTable['output_type'] = 'display_data';\n",
              "          await google.colab.output.renderOutput(dataTable, element);\n",
              "          const docLink = document.createElement('div');\n",
              "          docLink.innerHTML = docLinkHtml;\n",
              "          element.appendChild(docLink);\n",
              "        }\n",
              "      </script>\n",
              "    </div>\n",
              "  </div>\n",
              "  "
            ]
          },
          "metadata": {},
          "execution_count": 12
        }
      ]
    },
    {
      "cell_type": "markdown",
      "source": [
        "##Data Split"
      ],
      "metadata": {
        "id": "ZjitJDO0eDpZ"
      }
    },
    {
      "cell_type": "code",
      "source": [
        "df_lstm.shape"
      ],
      "metadata": {
        "colab": {
          "base_uri": "https://localhost:8080/"
        },
        "id": "IGgJtl2SREXF",
        "outputId": "bd9fc166-a4c2-4fc4-cec2-2cfa41ebcb2c"
      },
      "execution_count": null,
      "outputs": [
        {
          "output_type": "execute_result",
          "data": {
            "text/plain": [
              "(7641, 2)"
            ]
          },
          "metadata": {},
          "execution_count": 13
        }
      ]
    },
    {
      "cell_type": "code",
      "source": [
        "#I want to make the train size and test size able to be divided by 7 for the lstm input shape to be (7,1), so I will remove the last 4 rows\n",
        "\n",
        "df_lstm = df_lstm[:-4]\n",
        "\n",
        "train = df_lstm[:6104]\n",
        "test = df_lstm[6104:]\n",
        "\n",
        "\n",
        "print('Price_log size : ', df_lstm.shape)\n",
        "print('train size : ', train.shape)\n",
        "print('test size : ', test.shape)\n",
        "\n",
        "print('Train Test Split percentage % : ', (train.shape[0]/df_lstm.shape[0])*100)"
      ],
      "metadata": {
        "colab": {
          "base_uri": "https://localhost:8080/"
        },
        "id": "OORJ67MZO-Y7",
        "outputId": "3c47613b-5b8d-453e-97e3-f69916b46cdd"
      },
      "execution_count": null,
      "outputs": [
        {
          "output_type": "stream",
          "name": "stdout",
          "text": [
            "Price_log size :  (7637, 2)\n",
            "train size :  (6104, 2)\n",
            "test size :  (1533, 2)\n",
            "Train Test Split percentage % :  79.92667277726856\n"
          ]
        }
      ]
    },
    {
      "cell_type": "code",
      "source": [
        "df_lstm.iloc[6104]"
      ],
      "metadata": {
        "colab": {
          "base_uri": "https://localhost:8080/"
        },
        "id": "yPl5ykzITI4b",
        "outputId": "c0c0da10-1632-4985-95ee-8e352686be74"
      },
      "execution_count": null,
      "outputs": [
        {
          "output_type": "execute_result",
          "data": {
            "text/plain": [
              "Date     2011-06-01 00:00:00\n",
              "Price                 116.15\n",
              "Name: 6104, dtype: object"
            ]
          },
          "metadata": {},
          "execution_count": 15
        }
      ]
    },
    {
      "cell_type": "code",
      "source": [
        "train['Date'] = pd.to_datetime(train['Date'])\n",
        "test['Date'] = pd.to_datetime(test['Date'])\n",
        "\n",
        "train.set_index('Date', inplace=True)\n",
        "test.set_index('Date', inplace=True)"
      ],
      "metadata": {
        "id": "RXl-KMwXQeF3"
      },
      "execution_count": null,
      "outputs": []
    },
    {
      "cell_type": "code",
      "source": [
        "test.head(3)"
      ],
      "metadata": {
        "colab": {
          "base_uri": "https://localhost:8080/",
          "height": 174
        },
        "id": "BVvpbMMfVG5-",
        "outputId": "1a48e390-719a-4b8e-ef98-a5d77b93bf78"
      },
      "execution_count": null,
      "outputs": [
        {
          "output_type": "execute_result",
          "data": {
            "text/plain": [
              "             Price\n",
              "Date              \n",
              "2011-06-01  116.15\n",
              "2011-06-02  114.30\n",
              "2011-06-03  115.09"
            ],
            "text/html": [
              "\n",
              "  <div id=\"df-af4d7c89-e5d3-4612-b748-ab4d182a2de7\">\n",
              "    <div class=\"colab-df-container\">\n",
              "      <div>\n",
              "<style scoped>\n",
              "    .dataframe tbody tr th:only-of-type {\n",
              "        vertical-align: middle;\n",
              "    }\n",
              "\n",
              "    .dataframe tbody tr th {\n",
              "        vertical-align: top;\n",
              "    }\n",
              "\n",
              "    .dataframe thead th {\n",
              "        text-align: right;\n",
              "    }\n",
              "</style>\n",
              "<table border=\"1\" class=\"dataframe\">\n",
              "  <thead>\n",
              "    <tr style=\"text-align: right;\">\n",
              "      <th></th>\n",
              "      <th>Price</th>\n",
              "    </tr>\n",
              "    <tr>\n",
              "      <th>Date</th>\n",
              "      <th></th>\n",
              "    </tr>\n",
              "  </thead>\n",
              "  <tbody>\n",
              "    <tr>\n",
              "      <th>2011-06-01</th>\n",
              "      <td>116.15</td>\n",
              "    </tr>\n",
              "    <tr>\n",
              "      <th>2011-06-02</th>\n",
              "      <td>114.30</td>\n",
              "    </tr>\n",
              "    <tr>\n",
              "      <th>2011-06-03</th>\n",
              "      <td>115.09</td>\n",
              "    </tr>\n",
              "  </tbody>\n",
              "</table>\n",
              "</div>\n",
              "      <button class=\"colab-df-convert\" onclick=\"convertToInteractive('df-af4d7c89-e5d3-4612-b748-ab4d182a2de7')\"\n",
              "              title=\"Convert this dataframe to an interactive table.\"\n",
              "              style=\"display:none;\">\n",
              "        \n",
              "  <svg xmlns=\"http://www.w3.org/2000/svg\" height=\"24px\"viewBox=\"0 0 24 24\"\n",
              "       width=\"24px\">\n",
              "    <path d=\"M0 0h24v24H0V0z\" fill=\"none\"/>\n",
              "    <path d=\"M18.56 5.44l.94 2.06.94-2.06 2.06-.94-2.06-.94-.94-2.06-.94 2.06-2.06.94zm-11 1L8.5 8.5l.94-2.06 2.06-.94-2.06-.94L8.5 2.5l-.94 2.06-2.06.94zm10 10l.94 2.06.94-2.06 2.06-.94-2.06-.94-.94-2.06-.94 2.06-2.06.94z\"/><path d=\"M17.41 7.96l-1.37-1.37c-.4-.4-.92-.59-1.43-.59-.52 0-1.04.2-1.43.59L10.3 9.45l-7.72 7.72c-.78.78-.78 2.05 0 2.83L4 21.41c.39.39.9.59 1.41.59.51 0 1.02-.2 1.41-.59l7.78-7.78 2.81-2.81c.8-.78.8-2.07 0-2.86zM5.41 20L4 18.59l7.72-7.72 1.47 1.35L5.41 20z\"/>\n",
              "  </svg>\n",
              "      </button>\n",
              "      \n",
              "  <style>\n",
              "    .colab-df-container {\n",
              "      display:flex;\n",
              "      flex-wrap:wrap;\n",
              "      gap: 12px;\n",
              "    }\n",
              "\n",
              "    .colab-df-convert {\n",
              "      background-color: #E8F0FE;\n",
              "      border: none;\n",
              "      border-radius: 50%;\n",
              "      cursor: pointer;\n",
              "      display: none;\n",
              "      fill: #1967D2;\n",
              "      height: 32px;\n",
              "      padding: 0 0 0 0;\n",
              "      width: 32px;\n",
              "    }\n",
              "\n",
              "    .colab-df-convert:hover {\n",
              "      background-color: #E2EBFA;\n",
              "      box-shadow: 0px 1px 2px rgba(60, 64, 67, 0.3), 0px 1px 3px 1px rgba(60, 64, 67, 0.15);\n",
              "      fill: #174EA6;\n",
              "    }\n",
              "\n",
              "    [theme=dark] .colab-df-convert {\n",
              "      background-color: #3B4455;\n",
              "      fill: #D2E3FC;\n",
              "    }\n",
              "\n",
              "    [theme=dark] .colab-df-convert:hover {\n",
              "      background-color: #434B5C;\n",
              "      box-shadow: 0px 1px 3px 1px rgba(0, 0, 0, 0.15);\n",
              "      filter: drop-shadow(0px 1px 2px rgba(0, 0, 0, 0.3));\n",
              "      fill: #FFFFFF;\n",
              "    }\n",
              "  </style>\n",
              "\n",
              "      <script>\n",
              "        const buttonEl =\n",
              "          document.querySelector('#df-af4d7c89-e5d3-4612-b748-ab4d182a2de7 button.colab-df-convert');\n",
              "        buttonEl.style.display =\n",
              "          google.colab.kernel.accessAllowed ? 'block' : 'none';\n",
              "\n",
              "        async function convertToInteractive(key) {\n",
              "          const element = document.querySelector('#df-af4d7c89-e5d3-4612-b748-ab4d182a2de7');\n",
              "          const dataTable =\n",
              "            await google.colab.kernel.invokeFunction('convertToInteractive',\n",
              "                                                     [key], {});\n",
              "          if (!dataTable) return;\n",
              "\n",
              "          const docLinkHtml = 'Like what you see? Visit the ' +\n",
              "            '<a target=\"_blank\" href=https://colab.research.google.com/notebooks/data_table.ipynb>data table notebook</a>'\n",
              "            + ' to learn more about interactive tables.';\n",
              "          element.innerHTML = '';\n",
              "          dataTable['output_type'] = 'display_data';\n",
              "          await google.colab.output.renderOutput(dataTable, element);\n",
              "          const docLink = document.createElement('div');\n",
              "          docLink.innerHTML = docLinkHtml;\n",
              "          element.appendChild(docLink);\n",
              "        }\n",
              "      </script>\n",
              "    </div>\n",
              "  </div>\n",
              "  "
            ]
          },
          "metadata": {},
          "execution_count": 17
        }
      ]
    },
    {
      "cell_type": "markdown",
      "source": [
        "\n",
        "\n",
        "---\n",
        "\n"
      ],
      "metadata": {
        "id": "ROT6MPa3v8Rc"
      }
    },
    {
      "cell_type": "markdown",
      "source": [
        "**Visualizing training and testing data used for LSTM modeling:**"
      ],
      "metadata": {
        "id": "fNQdm2Yyv7UQ"
      }
    },
    {
      "cell_type": "code",
      "source": [
        "# Plot\n",
        "plt.figure(figsize=(12,5), dpi=100)\n",
        "plt.plot(train, label='Training')\n",
        "plt.plot(test, label='Testing')\n",
        "#plt.plot(predict_ser, label='Forecast')\n",
        "# plt.fill_between(lower_ser.index, lower_ser, upper_ser, \n",
        "#                  color='k', alpha=.15)\n",
        "plt.title('Training and Testing data')\n",
        "plt.legend(loc='upper left', fontsize=8)\n",
        "\n",
        "plt.show()"
      ],
      "metadata": {
        "colab": {
          "base_uri": "https://localhost:8080/",
          "height": 460
        },
        "id": "_qSXY3tlP3VK",
        "outputId": "98caed78-b8cd-446a-cd2e-ba387aaee6b1"
      },
      "execution_count": null,
      "outputs": [
        {
          "output_type": "display_data",
          "data": {
            "text/plain": [
              "<Figure size 1200x500 with 1 Axes>"
            ],
            "image/png": "[encoded data removed]"
          },
          "metadata": {
            "needs_background": "light"
          }
        }
      ]
    },
    {
      "cell_type": "markdown",
      "source": [
        "\n",
        "\n",
        "---\n",
        "\n"
      ],
      "metadata": {
        "id": "4nyCclU4eebI"
      }
    },
    {
      "cell_type": "markdown",
      "source": [
        "**Extracting x and y values for each of Train and Test data**"
      ],
      "metadata": {
        "id": "PQCQMm3ceUG0"
      }
    },
    {
      "cell_type": "code",
      "source": [
        "def supervised_setup(data, column):\n",
        "  # data: expects train/test set with 2 dimensions of (samples, features)\n",
        "  # column: expects integer indicating column index\n",
        "\n",
        "  X, y = [], [] # start with empty lists for X and y\n",
        "  input_start = 0 # iterator\n",
        "  n_input = 7 # we want 7 days as input\n",
        "  n_out = 7 # we want 7 days as output\n",
        "\n",
        "  # step over the entire history one time step at a time\n",
        "  for i in range(len(data)):\n",
        "\t  # define the end of the input and corresponding output\n",
        "\t  input_end = input_start + n_input\n",
        "\t  output_end = input_end + n_out\n",
        "\t\n",
        "    # ensure we have enough data for this instance\n",
        "\t  if output_end < len(data):\n",
        "\t\t  x_input = data[input_start:input_end, column]\n",
        "\t\t  x_input = x_input.reshape((len(x_input), 1))\n",
        "  \n",
        "\t\t  X.append(x_input)\n",
        "\t\t  y.append(data[input_end:output_end, column])\n",
        "  \n",
        "\t  # move along one time step\n",
        "\t  input_start += 1\n",
        "  return np.array(X), np.array(y)"
      ],
      "metadata": {
        "id": "jE8RI0HuQ5XQ"
      },
      "execution_count": null,
      "outputs": []
    },
    {
      "cell_type": "code",
      "source": [
        "train = train.values\n",
        "print('Train data shape: ', train.shape)\n",
        "\n",
        "test = test.values\n",
        "print('Test data shape: ',test.shape)"
      ],
      "metadata": {
        "colab": {
          "base_uri": "https://localhost:8080/"
        },
        "id": "-FSJwJFeU3HW",
        "outputId": "d154619e-f2b8-449d-dd5b-acc21b2175b0"
      },
      "execution_count": null,
      "outputs": [
        {
          "output_type": "stream",
          "name": "stdout",
          "text": [
            "Train data shape:  (6104, 1)\n",
            "Test data shape:  (1533, 1)\n"
          ]
        }
      ]
    },
    {
      "cell_type": "code",
      "source": [
        "#Reshaping data and extracting y values for the model training and testing\n",
        "X_train, y_train = supervised_setup(train, 0)\n",
        "X_test, y_test = supervised_setup(test, 0)\n",
        "\n",
        "print(X_train.shape)\n",
        "print(y_train.shape)\n",
        "print(X_test.shape)\n",
        "print(y_test.shape)"
      ],
      "metadata": {
        "colab": {
          "base_uri": "https://localhost:8080/"
        },
        "id": "VD3rhUwFRIKo",
        "outputId": "344cdebc-4bfc-4081-878a-306ed05a3f49"
      },
      "execution_count": null,
      "outputs": [
        {
          "output_type": "stream",
          "name": "stdout",
          "text": [
            "(6090, 7, 1)\n",
            "(6090, 7)\n",
            "(1519, 7, 1)\n",
            "(1519, 7)\n"
          ]
        }
      ]
    },
    {
      "cell_type": "markdown",
      "source": [
        "**Viewing some training samples and their relevant testing values:**"
      ],
      "metadata": {
        "id": "Gje3vD2bwuBZ"
      }
    },
    {
      "cell_type": "code",
      "source": [
        "print(X_train[:4])"
      ],
      "metadata": {
        "colab": {
          "base_uri": "https://localhost:8080/"
        },
        "id": "VpHp4xXbXMxX",
        "outputId": "b0256cd6-a0de-4ae3-995d-4d34cfb086de"
      },
      "execution_count": null,
      "outputs": [
        {
          "output_type": "stream",
          "name": "stdout",
          "text": [
            "[[[18.63]\n",
            "  [18.45]\n",
            "  [18.55]\n",
            "  [18.6 ]\n",
            "  [18.63]\n",
            "  [18.6 ]\n",
            "  [18.6 ]]\n",
            "\n",
            " [[18.45]\n",
            "  [18.55]\n",
            "  [18.6 ]\n",
            "  [18.63]\n",
            "  [18.6 ]\n",
            "  [18.6 ]\n",
            "  [18.58]]\n",
            "\n",
            " [[18.55]\n",
            "  [18.6 ]\n",
            "  [18.63]\n",
            "  [18.6 ]\n",
            "  [18.6 ]\n",
            "  [18.58]\n",
            "  [18.65]]\n",
            "\n",
            " [[18.6 ]\n",
            "  [18.63]\n",
            "  [18.6 ]\n",
            "  [18.6 ]\n",
            "  [18.58]\n",
            "  [18.65]\n",
            "  [18.68]]]\n"
          ]
        }
      ]
    },
    {
      "cell_type": "code",
      "source": [
        "print(y_train[:4])"
      ],
      "metadata": {
        "colab": {
          "base_uri": "https://localhost:8080/"
        },
        "id": "PhTddaW7XlkV",
        "outputId": "9695adf7-374a-4e25-9f55-d66fe6737a1e"
      },
      "execution_count": null,
      "outputs": [
        {
          "output_type": "stream",
          "name": "stdout",
          "text": [
            "[[18.58 18.65 18.68 18.75 18.78 18.65 18.75]\n",
            " [18.65 18.68 18.75 18.78 18.65 18.75 18.78]\n",
            " [18.68 18.75 18.78 18.65 18.75 18.78 18.78]\n",
            " [18.75 18.78 18.65 18.75 18.78 18.78 18.68]]\n"
          ]
        }
      ]
    },
    {
      "cell_type": "markdown",
      "source": [
        "\n",
        "\n",
        "---\n",
        "\n"
      ],
      "metadata": {
        "id": "J2puT0gwaJX9"
      }
    },
    {
      "cell_type": "markdown",
      "source": [
        "##Model Design"
      ],
      "metadata": {
        "id": "KIsoU4uwfNwh"
      }
    },
    {
      "cell_type": "code",
      "source": [
        "def get_model(params, input_shape):\n",
        "\tmodel = Sequential()\n",
        "\tmodel.add(LSTM(units=params[\"lstm_units\"], return_sequences=True, input_shape=(input_shape, 1)))\n",
        "\tmodel.add(Dropout(rate=params[\"dropout\"]))\n",
        "\n",
        "\tmodel.add(LSTM(units=params[\"lstm_units\"], return_sequences=True))\n",
        "\tmodel.add(Dropout(rate=params[\"dropout\"]))\n",
        "\n",
        "\tmodel.add(LSTM(units=params[\"lstm_units\"], return_sequences=True))\n",
        "\tmodel.add(Dropout(rate=params[\"dropout\"]))\n",
        "\n",
        "\tmodel.add(LSTM(units=params[\"lstm_units\"], return_sequences=False))\n",
        "\tmodel.add(Dropout(rate=params[\"dropout\"]))\n",
        "\n",
        "\tmodel.add(Dense(7))\n",
        "\n",
        "\tmodel.compile(loss=params[\"loss\"],\n",
        "              \toptimizer=params[\"optimizer\"],\n",
        "              \tmetrics=[RootMeanSquaredError(), MeanAbsoluteError()])\n",
        "\n",
        "\treturn model"
      ],
      "metadata": {
        "id": "oa9P523PN0NP"
      },
      "execution_count": null,
      "outputs": []
    },
    {
      "cell_type": "code",
      "source": [
        "params = {\n",
        "\t\"loss\": \"mean_squared_error\",\n",
        "\t\"optimizer\": \"adam\",\n",
        "\t\"dropout\": 0.2,\n",
        "\t\"lstm_units\": 90,\n",
        "\t\"epochs\": 30,\n",
        "\t\"batch_size\": 128\n",
        "}\n",
        "\n",
        "model = get_model(params=params, input_shape=X_train.shape[1])\n",
        "model.summary()"
      ],
      "metadata": {
        "colab": {
          "base_uri": "https://localhost:8080/"
        },
        "id": "dwWEP6kIN9mA",
        "outputId": "e98af45f-4114-4fe7-86b2-16c53515e349"
      },
      "execution_count": null,
      "outputs": [
        {
          "output_type": "stream",
          "name": "stdout",
          "text": [
            "Model: \"sequential\"\n",
            "_________________________________________________________________\n",
            " Layer (type)                Output Shape              Param #   \n",
            "=================================================================\n",
            " lstm (LSTM)                 (None, 7, 90)             33120     \n",
            "                                                                 \n",
            " dropout (Dropout)           (None, 7, 90)             0         \n",
            "                                                                 \n",
            " lstm_1 (LSTM)               (None, 7, 90)             65160     \n",
            "                                                                 \n",
            " dropout_1 (Dropout)         (None, 7, 90)             0         \n",
            "                                                                 \n",
            " lstm_2 (LSTM)               (None, 7, 90)             65160     \n",
            "                                                                 \n",
            " dropout_2 (Dropout)         (None, 7, 90)             0         \n",
            "                                                                 \n",
            " lstm_3 (LSTM)               (None, 90)                65160     \n",
            "                                                                 \n",
            " dropout_3 (Dropout)         (None, 90)                0         \n",
            "                                                                 \n",
            " dense (Dense)               (None, 7)                 637       \n",
            "                                                                 \n",
            "=================================================================\n",
            "Total params: 229,237\n",
            "Trainable params: 229,237\n",
            "Non-trainable params: 0\n",
            "_________________________________________________________________\n"
          ]
        }
      ]
    },
    {
      "cell_type": "code",
      "source": [
        "print('The shape of X_train entering the model is: ', X_train.shape)\n",
        "print('The shape of y_train entering the model is: ', y_train.shape)"
      ],
      "metadata": {
        "colab": {
          "base_uri": "https://localhost:8080/"
        },
        "id": "MCEEEcizdmKt",
        "outputId": "75b83252-709d-419b-c715-5038858b4ad1"
      },
      "execution_count": null,
      "outputs": [
        {
          "output_type": "stream",
          "name": "stdout",
          "text": [
            "The shape of X_train entering the model is:  (6090, 7, 1)\n",
            "The shape of y_train entering the model is:  (6090, 7)\n"
          ]
        }
      ]
    },
    {
      "cell_type": "code",
      "source": [
        "print('one example of X_train is: \\n ',X_train[0])\n",
        "print('one example of y_train is: ',y_train[0])"
      ],
      "metadata": {
        "colab": {
          "base_uri": "https://localhost:8080/"
        },
        "id": "XST5z3WAdw__",
        "outputId": "d5057220-2514-42c1-f16d-313fc8cb006c"
      },
      "execution_count": null,
      "outputs": [
        {
          "output_type": "stream",
          "name": "stdout",
          "text": [
            "one example of X_train is: \n",
            "  [[18.63]\n",
            " [18.45]\n",
            " [18.55]\n",
            " [18.6 ]\n",
            " [18.63]\n",
            " [18.6 ]\n",
            " [18.6 ]]\n",
            "one example of y_train is:  [18.58 18.65 18.68 18.75 18.78 18.65 18.75]\n"
          ]
        }
      ]
    },
    {
      "cell_type": "code",
      "source": [
        "model.fit(\n",
        "\tX_train,\n",
        "\ty_train,\n",
        "\tvalidation_data=(X_test, y_test),\n",
        "\tepochs=100,\n",
        "\tbatch_size=params[\"batch_size\"],\n",
        "\tverbose=1\n",
        ")"
      ],
      "metadata": {
        "colab": {
          "base_uri": "https://localhost:8080/"
        },
        "id": "vgJAkzXee_ib",
        "outputId": "d120b52f-b8b1-4288-f6a9-576b98f9c7c1"
      },
      "execution_count": null,
      "outputs": [
        {
          "output_type": "stream",
          "name": "stdout",
          "text": [
            "Epoch 1/100\n",
            "48/48 [==============================] - 15s 133ms/step - loss: 1653.5355 - root_mean_squared_error: 40.6637 - mean_absolute_error: 30.7243 - val_loss: 6512.6538 - val_root_mean_squared_error: 80.7010 - val_mean_absolute_error: 74.7810\n",
            "Epoch 2/100\n",
            "48/48 [==============================] - 7s 147ms/step - loss: 1313.5012 - root_mean_squared_error: 36.2423 - mean_absolute_error: 24.7109 - val_loss: 5841.8105 - val_root_mean_squared_error: 76.4317 - val_mean_absolute_error: 70.1526\n",
            "Epoch 3/100\n",
            "48/48 [==============================] - 4s 86ms/step - loss: 1120.5867 - root_mean_squared_error: 33.4752 - mean_absolute_error: 20.8710 - val_loss: 5310.3076 - val_root_mean_squared_error: 72.8719 - val_mean_absolute_error: 66.2568\n",
            "Epoch 4/100\n",
            "48/48 [==============================] - 4s 84ms/step - loss: 984.7661 - root_mean_squared_error: 31.3810 - mean_absolute_error: 18.6434 - val_loss: 4867.0435 - val_root_mean_squared_error: 69.7642 - val_mean_absolute_error: 62.8234\n",
            "Epoch 5/100\n",
            "48/48 [==============================] - 5s 108ms/step - loss: 888.4240 - root_mean_squared_error: 29.8064 - mean_absolute_error: 18.0129 - val_loss: 4503.6074 - val_root_mean_squared_error: 67.1089 - val_mean_absolute_error: 59.8620\n",
            "Epoch 6/100\n",
            "48/48 [==============================] - 5s 98ms/step - loss: 820.4429 - root_mean_squared_error: 28.6434 - mean_absolute_error: 18.0722 - val_loss: 4206.0454 - val_root_mean_squared_error: 64.8540 - val_mean_absolute_error: 57.3239\n",
            "Epoch 7/100\n",
            "48/48 [==============================] - 4s 85ms/step - loss: 775.4005 - root_mean_squared_error: 27.8460 - mean_absolute_error: 18.3325 - val_loss: 3966.6567 - val_root_mean_squared_error: 62.9814 - val_mean_absolute_error: 55.2020\n",
            "Epoch 8/100\n",
            "48/48 [==============================] - 4s 85ms/step - loss: 747.9396 - root_mean_squared_error: 27.3485 - mean_absolute_error: 18.7602 - val_loss: 3775.1936 - val_root_mean_squared_error: 61.4426 - val_mean_absolute_error: 53.4551\n",
            "Epoch 9/100\n",
            "48/48 [==============================] - 5s 101ms/step - loss: 728.9298 - root_mean_squared_error: 26.9987 - mean_absolute_error: 19.1782 - val_loss: 3628.6812 - val_root_mean_squared_error: 60.2385 - val_mean_absolute_error: 52.0896\n",
            "Epoch 10/100\n",
            "48/48 [==============================] - 5s 95ms/step - loss: 716.4932 - root_mean_squared_error: 26.7674 - mean_absolute_error: 19.5908 - val_loss: 3513.5796 - val_root_mean_squared_error: 59.2755 - val_mean_absolute_error: 51.0010\n",
            "Epoch 11/100\n",
            "48/48 [==============================] - 4s 85ms/step - loss: 711.4940 - root_mean_squared_error: 26.6738 - mean_absolute_error: 19.9627 - val_loss: 3425.8640 - val_root_mean_squared_error: 58.5309 - val_mean_absolute_error: 50.1628\n",
            "Epoch 12/100\n",
            "48/48 [==============================] - 4s 86ms/step - loss: 708.7589 - root_mean_squared_error: 26.6225 - mean_absolute_error: 20.2262 - val_loss: 3364.3438 - val_root_mean_squared_error: 58.0030 - val_mean_absolute_error: 49.5707\n",
            "Epoch 13/100\n",
            "48/48 [==============================] - 4s 88ms/step - loss: 706.6722 - root_mean_squared_error: 26.5833 - mean_absolute_error: 20.4283 - val_loss: 3311.8989 - val_root_mean_squared_error: 57.5491 - val_mean_absolute_error: 49.0623\n",
            "Epoch 14/100\n",
            "48/48 [==============================] - 4s 84ms/step - loss: 705.3085 - root_mean_squared_error: 26.5576 - mean_absolute_error: 20.6213 - val_loss: 3286.2903 - val_root_mean_squared_error: 57.3262 - val_mean_absolute_error: 48.8124\n",
            "Epoch 15/100\n",
            "48/48 [==============================] - 4s 85ms/step - loss: 702.6541 - root_mean_squared_error: 26.5076 - mean_absolute_error: 20.6868 - val_loss: 3255.4009 - val_root_mean_squared_error: 57.0561 - val_mean_absolute_error: 48.5091\n",
            "Epoch 16/100\n",
            "48/48 [==============================] - 4s 85ms/step - loss: 702.6365 - root_mean_squared_error: 26.5073 - mean_absolute_error: 20.7670 - val_loss: 3243.4470 - val_root_mean_squared_error: 56.9513 - val_mean_absolute_error: 48.3912\n",
            "Epoch 17/100\n",
            "48/48 [==============================] - 4s 84ms/step - loss: 704.5673 - root_mean_squared_error: 26.5437 - mean_absolute_error: 20.8022 - val_loss: 3235.0566 - val_root_mean_squared_error: 56.8776 - val_mean_absolute_error: 48.3082\n",
            "Epoch 18/100\n",
            "48/48 [==============================] - 4s 85ms/step - loss: 703.6060 - root_mean_squared_error: 26.5256 - mean_absolute_error: 20.8561 - val_loss: 3224.9592 - val_root_mean_squared_error: 56.7887 - val_mean_absolute_error: 48.2082\n",
            "Epoch 19/100\n",
            "48/48 [==============================] - 4s 85ms/step - loss: 702.6315 - root_mean_squared_error: 26.5072 - mean_absolute_error: 20.9118 - val_loss: 3211.4292 - val_root_mean_squared_error: 56.6695 - val_mean_absolute_error: 48.0738\n",
            "Epoch 20/100\n",
            "48/48 [==============================] - 4s 85ms/step - loss: 703.0105 - root_mean_squared_error: 26.5143 - mean_absolute_error: 20.8954 - val_loss: 3217.5869 - val_root_mean_squared_error: 56.7238 - val_mean_absolute_error: 48.1350\n",
            "Epoch 21/100\n",
            "48/48 [==============================] - 4s 85ms/step - loss: 705.3948 - root_mean_squared_error: 26.5593 - mean_absolute_error: 20.9497 - val_loss: 3216.6912 - val_root_mean_squared_error: 56.7159 - val_mean_absolute_error: 48.1261\n",
            "Epoch 22/100\n",
            "48/48 [==============================] - 4s 84ms/step - loss: 704.2844 - root_mean_squared_error: 26.5384 - mean_absolute_error: 20.9349 - val_loss: 3207.4375 - val_root_mean_squared_error: 56.6342 - val_mean_absolute_error: 48.0341\n",
            "Epoch 23/100\n",
            "48/48 [==============================] - 4s 86ms/step - loss: 714.9483 - root_mean_squared_error: 26.7385 - mean_absolute_error: 20.9753 - val_loss: 3239.1504 - val_root_mean_squared_error: 56.9135 - val_mean_absolute_error: 48.3552\n",
            "Epoch 24/100\n",
            "48/48 [==============================] - 4s 85ms/step - loss: 705.4348 - root_mean_squared_error: 26.5600 - mean_absolute_error: 20.6978 - val_loss: 3285.9458 - val_root_mean_squared_error: 57.3232 - val_mean_absolute_error: 48.8112\n",
            "Epoch 25/100\n",
            "48/48 [==============================] - 4s 87ms/step - loss: 685.7601 - root_mean_squared_error: 26.1870 - mean_absolute_error: 20.1679 - val_loss: 3188.8828 - val_root_mean_squared_error: 56.4702 - val_mean_absolute_error: 47.8329\n",
            "Epoch 26/100\n",
            "48/48 [==============================] - 4s 85ms/step - loss: 650.2349 - root_mean_squared_error: 25.4997 - mean_absolute_error: 19.6590 - val_loss: 3050.9871 - val_root_mean_squared_error: 55.2357 - val_mean_absolute_error: 46.4389\n",
            "Epoch 27/100\n",
            "48/48 [==============================] - 4s 87ms/step - loss: 606.4633 - root_mean_squared_error: 24.6265 - mean_absolute_error: 18.4081 - val_loss: 2955.0413 - val_root_mean_squared_error: 54.3603 - val_mean_absolute_error: 45.4411\n",
            "Epoch 28/100\n",
            "48/48 [==============================] - 4s 85ms/step - loss: 518.2885 - root_mean_squared_error: 22.7659 - mean_absolute_error: 15.4089 - val_loss: 2744.8618 - val_root_mean_squared_error: 52.3914 - val_mean_absolute_error: 43.2527\n",
            "Epoch 29/100\n",
            "48/48 [==============================] - 4s 84ms/step - loss: 398.4393 - root_mean_squared_error: 19.9609 - mean_absolute_error: 10.5670 - val_loss: 2361.7708 - val_root_mean_squared_error: 48.5981 - val_mean_absolute_error: 39.0282\n",
            "Epoch 30/100\n",
            "48/48 [==============================] - 4s 85ms/step - loss: 324.2757 - root_mean_squared_error: 18.0077 - mean_absolute_error: 9.1234 - val_loss: 2051.9277 - val_root_mean_squared_error: 45.2982 - val_mean_absolute_error: 35.8278\n",
            "Epoch 31/100\n",
            "48/48 [==============================] - 4s 84ms/step - loss: 270.0274 - root_mean_squared_error: 16.4325 - mean_absolute_error: 8.1091 - val_loss: 1806.1407 - val_root_mean_squared_error: 42.4987 - val_mean_absolute_error: 33.3260\n",
            "Epoch 32/100\n",
            "48/48 [==============================] - 4s 85ms/step - loss: 229.2237 - root_mean_squared_error: 15.1401 - mean_absolute_error: 7.3419 - val_loss: 1600.7827 - val_root_mean_squared_error: 40.0098 - val_mean_absolute_error: 31.2663\n",
            "Epoch 33/100\n",
            "48/48 [==============================] - 4s 85ms/step - loss: 198.5502 - root_mean_squared_error: 14.0908 - mean_absolute_error: 6.7191 - val_loss: 1430.2732 - val_root_mean_squared_error: 37.8190 - val_mean_absolute_error: 29.3762\n",
            "Epoch 34/100\n",
            "48/48 [==============================] - 4s 86ms/step - loss: 174.9737 - root_mean_squared_error: 13.2278 - mean_absolute_error: 6.2074 - val_loss: 1287.5319 - val_root_mean_squared_error: 35.8822 - val_mean_absolute_error: 27.8653\n",
            "Epoch 35/100\n",
            "48/48 [==============================] - 4s 85ms/step - loss: 153.9504 - root_mean_squared_error: 12.4077 - mean_absolute_error: 5.8153 - val_loss: 1165.8944 - val_root_mean_squared_error: 34.1452 - val_mean_absolute_error: 26.4576\n",
            "Epoch 36/100\n",
            "48/48 [==============================] - 4s 85ms/step - loss: 140.5622 - root_mean_squared_error: 11.8559 - mean_absolute_error: 5.5264 - val_loss: 1058.9423 - val_root_mean_squared_error: 32.5414 - val_mean_absolute_error: 25.3384\n",
            "Epoch 37/100\n",
            "48/48 [==============================] - 4s 85ms/step - loss: 124.5470 - root_mean_squared_error: 11.1601 - mean_absolute_error: 5.2110 - val_loss: 971.4848 - val_root_mean_squared_error: 31.1687 - val_mean_absolute_error: 24.8018\n",
            "Epoch 38/100\n",
            "48/48 [==============================] - 4s 86ms/step - loss: 114.0085 - root_mean_squared_error: 10.6775 - mean_absolute_error: 5.0216 - val_loss: 885.6006 - val_root_mean_squared_error: 29.7590 - val_mean_absolute_error: 23.2974\n",
            "Epoch 39/100\n",
            "48/48 [==============================] - 4s 84ms/step - loss: 106.0671 - root_mean_squared_error: 10.2989 - mean_absolute_error: 4.7846 - val_loss: 810.2268 - val_root_mean_squared_error: 28.4645 - val_mean_absolute_error: 22.0535\n",
            "Epoch 40/100\n",
            "48/48 [==============================] - 4s 86ms/step - loss: 97.3881 - root_mean_squared_error: 9.8685 - mean_absolute_error: 4.5471 - val_loss: 744.2543 - val_root_mean_squared_error: 27.2810 - val_mean_absolute_error: 21.1192\n",
            "Epoch 41/100\n",
            "48/48 [==============================] - 4s 86ms/step - loss: 89.5738 - root_mean_squared_error: 9.4643 - mean_absolute_error: 4.4067 - val_loss: 685.5970 - val_root_mean_squared_error: 26.1839 - val_mean_absolute_error: 20.2998\n",
            "Epoch 42/100\n",
            "48/48 [==============================] - 4s 87ms/step - loss: 84.7109 - root_mean_squared_error: 9.2039 - mean_absolute_error: 4.3260 - val_loss: 630.3268 - val_root_mean_squared_error: 25.1063 - val_mean_absolute_error: 19.4380\n",
            "Epoch 43/100\n",
            "48/48 [==============================] - 4s 86ms/step - loss: 77.9864 - root_mean_squared_error: 8.8310 - mean_absolute_error: 4.1895 - val_loss: 583.7527 - val_root_mean_squared_error: 24.1610 - val_mean_absolute_error: 18.7654\n",
            "Epoch 44/100\n",
            "48/48 [==============================] - 4s 85ms/step - loss: 75.6953 - root_mean_squared_error: 8.7003 - mean_absolute_error: 4.1478 - val_loss: 540.8818 - val_root_mean_squared_error: 23.2569 - val_mean_absolute_error: 18.1561\n",
            "Epoch 45/100\n",
            "48/48 [==============================] - 4s 85ms/step - loss: 70.1014 - root_mean_squared_error: 8.3727 - mean_absolute_error: 3.9506 - val_loss: 497.1577 - val_root_mean_squared_error: 22.2970 - val_mean_absolute_error: 17.1809\n",
            "Epoch 46/100\n",
            "48/48 [==============================] - 4s 86ms/step - loss: 65.2445 - root_mean_squared_error: 8.0774 - mean_absolute_error: 3.8026 - val_loss: 461.7088 - val_root_mean_squared_error: 21.4874 - val_mean_absolute_error: 16.7855\n",
            "Epoch 47/100\n",
            "48/48 [==============================] - 4s 85ms/step - loss: 62.7378 - root_mean_squared_error: 7.9207 - mean_absolute_error: 3.7996 - val_loss: 422.8964 - val_root_mean_squared_error: 20.5644 - val_mean_absolute_error: 15.8207\n",
            "Epoch 48/100\n",
            "48/48 [==============================] - 4s 87ms/step - loss: 58.7804 - root_mean_squared_error: 7.6668 - mean_absolute_error: 3.7088 - val_loss: 389.4643 - val_root_mean_squared_error: 19.7349 - val_mean_absolute_error: 15.1182\n",
            "Epoch 49/100\n",
            "48/48 [==============================] - 4s 86ms/step - loss: 55.0343 - root_mean_squared_error: 7.4185 - mean_absolute_error: 3.5806 - val_loss: 359.0484 - val_root_mean_squared_error: 18.9486 - val_mean_absolute_error: 14.5701\n",
            "Epoch 50/100\n",
            "48/48 [==============================] - 4s 86ms/step - loss: 51.6642 - root_mean_squared_error: 7.1878 - mean_absolute_error: 3.4775 - val_loss: 331.0631 - val_root_mean_squared_error: 18.1951 - val_mean_absolute_error: 14.0082\n",
            "Epoch 51/100\n",
            "48/48 [==============================] - 4s 87ms/step - loss: 49.0858 - root_mean_squared_error: 7.0061 - mean_absolute_error: 3.4515 - val_loss: 303.2469 - val_root_mean_squared_error: 17.4140 - val_mean_absolute_error: 13.4106\n",
            "Epoch 52/100\n",
            "48/48 [==============================] - 4s 85ms/step - loss: 46.9558 - root_mean_squared_error: 6.8524 - mean_absolute_error: 3.3997 - val_loss: 283.4602 - val_root_mean_squared_error: 16.8363 - val_mean_absolute_error: 13.4452\n",
            "Epoch 53/100\n",
            "48/48 [==============================] - 4s 85ms/step - loss: 43.0307 - root_mean_squared_error: 6.5598 - mean_absolute_error: 3.3222 - val_loss: 255.7182 - val_root_mean_squared_error: 15.9912 - val_mean_absolute_error: 12.2470\n",
            "Epoch 54/100\n",
            "48/48 [==============================] - 4s 89ms/step - loss: 41.7279 - root_mean_squared_error: 6.4597 - mean_absolute_error: 3.2544 - val_loss: 235.4002 - val_root_mean_squared_error: 15.3428 - val_mean_absolute_error: 11.8906\n",
            "Epoch 55/100\n",
            "48/48 [==============================] - 4s 87ms/step - loss: 41.0831 - root_mean_squared_error: 6.4096 - mean_absolute_error: 3.2533 - val_loss: 215.5749 - val_root_mean_squared_error: 14.6825 - val_mean_absolute_error: 11.2344\n",
            "Epoch 56/100\n",
            "48/48 [==============================] - 4s 88ms/step - loss: 38.7776 - root_mean_squared_error: 6.2272 - mean_absolute_error: 3.1753 - val_loss: 196.9868 - val_root_mean_squared_error: 14.0352 - val_mean_absolute_error: 10.7084\n",
            "Epoch 57/100\n",
            "48/48 [==============================] - 4s 86ms/step - loss: 37.2001 - root_mean_squared_error: 6.0992 - mean_absolute_error: 3.1295 - val_loss: 180.3442 - val_root_mean_squared_error: 13.4292 - val_mean_absolute_error: 10.2334\n",
            "Epoch 58/100\n",
            "48/48 [==============================] - 4s 87ms/step - loss: 35.5809 - root_mean_squared_error: 5.9650 - mean_absolute_error: 3.1491 - val_loss: 170.6120 - val_root_mean_squared_error: 13.0619 - val_mean_absolute_error: 10.5225\n",
            "Epoch 59/100\n",
            "48/48 [==============================] - 6s 126ms/step - loss: 34.1304 - root_mean_squared_error: 5.8421 - mean_absolute_error: 3.0610 - val_loss: 151.1187 - val_root_mean_squared_error: 12.2930 - val_mean_absolute_error: 9.2871\n",
            "Epoch 60/100\n",
            "48/48 [==============================] - 4s 86ms/step - loss: 31.7408 - root_mean_squared_error: 5.6339 - mean_absolute_error: 2.9703 - val_loss: 139.8368 - val_root_mean_squared_error: 11.8253 - val_mean_absolute_error: 9.2961\n",
            "Epoch 61/100\n",
            "48/48 [==============================] - 4s 86ms/step - loss: 32.4675 - root_mean_squared_error: 5.6980 - mean_absolute_error: 2.9785 - val_loss: 128.1171 - val_root_mean_squared_error: 11.3189 - val_mean_absolute_error: 8.8995\n",
            "Epoch 62/100\n",
            "48/48 [==============================] - 4s 87ms/step - loss: 29.3692 - root_mean_squared_error: 5.4193 - mean_absolute_error: 2.9261 - val_loss: 113.8024 - val_root_mean_squared_error: 10.6678 - val_mean_absolute_error: 8.0216\n",
            "Epoch 63/100\n",
            "48/48 [==============================] - 4s 85ms/step - loss: 29.5489 - root_mean_squared_error: 5.4359 - mean_absolute_error: 2.9183 - val_loss: 104.9742 - val_root_mean_squared_error: 10.2457 - val_mean_absolute_error: 7.9758\n",
            "Epoch 64/100\n",
            "48/48 [==============================] - 4s 89ms/step - loss: 29.1226 - root_mean_squared_error: 5.3965 - mean_absolute_error: 2.9178 - val_loss: 94.0895 - val_root_mean_squared_error: 9.7000 - val_mean_absolute_error: 7.3487\n",
            "Epoch 65/100\n",
            "48/48 [==============================] - 4s 85ms/step - loss: 27.9734 - root_mean_squared_error: 5.2890 - mean_absolute_error: 2.8681 - val_loss: 86.6298 - val_root_mean_squared_error: 9.3075 - val_mean_absolute_error: 7.1761\n",
            "Epoch 66/100\n",
            "48/48 [==============================] - 4s 86ms/step - loss: 26.9069 - root_mean_squared_error: 5.1872 - mean_absolute_error: 2.8879 - val_loss: 88.3388 - val_root_mean_squared_error: 9.3989 - val_mean_absolute_error: 7.9060\n",
            "Epoch 67/100\n",
            "48/48 [==============================] - 4s 85ms/step - loss: 26.3528 - root_mean_squared_error: 5.1335 - mean_absolute_error: 2.8553 - val_loss: 70.7882 - val_root_mean_squared_error: 8.4136 - val_mean_absolute_error: 6.3700\n",
            "Epoch 68/100\n",
            "48/48 [==============================] - 4s 87ms/step - loss: 24.5759 - root_mean_squared_error: 4.9574 - mean_absolute_error: 2.7756 - val_loss: 62.7371 - val_root_mean_squared_error: 7.9207 - val_mean_absolute_error: 5.9099\n",
            "Epoch 69/100\n",
            "48/48 [==============================] - 4s 88ms/step - loss: 24.4305 - root_mean_squared_error: 4.9427 - mean_absolute_error: 2.7678 - val_loss: 56.5665 - val_root_mean_squared_error: 7.5211 - val_mean_absolute_error: 5.6305\n",
            "Epoch 70/100\n",
            "48/48 [==============================] - 4s 88ms/step - loss: 22.9852 - root_mean_squared_error: 4.7943 - mean_absolute_error: 2.7565 - val_loss: 51.1543 - val_root_mean_squared_error: 7.1522 - val_mean_absolute_error: 5.3433\n",
            "Epoch 71/100\n",
            "48/48 [==============================] - 4s 87ms/step - loss: 22.6893 - root_mean_squared_error: 4.7633 - mean_absolute_error: 2.7242 - val_loss: 45.5102 - val_root_mean_squared_error: 6.7461 - val_mean_absolute_error: 4.9802\n",
            "Epoch 72/100\n",
            "48/48 [==============================] - 4s 87ms/step - loss: 22.2062 - root_mean_squared_error: 4.7123 - mean_absolute_error: 2.7181 - val_loss: 42.3213 - val_root_mean_squared_error: 6.5055 - val_mean_absolute_error: 4.9481\n",
            "Epoch 73/100\n",
            "48/48 [==============================] - 4s 87ms/step - loss: 20.9625 - root_mean_squared_error: 4.5785 - mean_absolute_error: 2.6488 - val_loss: 37.3246 - val_root_mean_squared_error: 6.1094 - val_mean_absolute_error: 4.4946\n",
            "Epoch 74/100\n",
            "48/48 [==============================] - 4s 87ms/step - loss: 20.9951 - root_mean_squared_error: 4.5820 - mean_absolute_error: 2.6591 - val_loss: 32.7506 - val_root_mean_squared_error: 5.7228 - val_mean_absolute_error: 4.1336\n",
            "Epoch 75/100\n",
            "48/48 [==============================] - 4s 88ms/step - loss: 20.5959 - root_mean_squared_error: 4.5383 - mean_absolute_error: 2.6337 - val_loss: 30.6147 - val_root_mean_squared_error: 5.5331 - val_mean_absolute_error: 4.0653\n",
            "Epoch 76/100\n",
            "48/48 [==============================] - 4s 87ms/step - loss: 20.5557 - root_mean_squared_error: 4.5338 - mean_absolute_error: 2.6251 - val_loss: 27.4717 - val_root_mean_squared_error: 5.2413 - val_mean_absolute_error: 3.7552\n",
            "Epoch 77/100\n",
            "48/48 [==============================] - 4s 89ms/step - loss: 18.9844 - root_mean_squared_error: 4.3571 - mean_absolute_error: 2.5558 - val_loss: 26.7253 - val_root_mean_squared_error: 5.1697 - val_mean_absolute_error: 3.7885\n",
            "Epoch 78/100\n",
            "48/48 [==============================] - 4s 86ms/step - loss: 18.8474 - root_mean_squared_error: 4.3414 - mean_absolute_error: 2.5927 - val_loss: 21.6474 - val_root_mean_squared_error: 4.6527 - val_mean_absolute_error: 3.2081\n",
            "Epoch 79/100\n",
            "48/48 [==============================] - 4s 87ms/step - loss: 18.3264 - root_mean_squared_error: 4.2809 - mean_absolute_error: 2.5595 - val_loss: 21.6129 - val_root_mean_squared_error: 4.6490 - val_mean_absolute_error: 3.2879\n",
            "Epoch 80/100\n",
            "48/48 [==============================] - 4s 89ms/step - loss: 18.5242 - root_mean_squared_error: 4.3040 - mean_absolute_error: 2.5588 - val_loss: 19.1688 - val_root_mean_squared_error: 4.3782 - val_mean_absolute_error: 3.0459\n",
            "Epoch 81/100\n",
            "48/48 [==============================] - 4s 86ms/step - loss: 17.0027 - root_mean_squared_error: 4.1234 - mean_absolute_error: 2.4601 - val_loss: 17.3199 - val_root_mean_squared_error: 4.1617 - val_mean_absolute_error: 2.8544\n",
            "Epoch 82/100\n",
            "48/48 [==============================] - 4s 87ms/step - loss: 17.7540 - root_mean_squared_error: 4.2136 - mean_absolute_error: 2.5388 - val_loss: 17.7352 - val_root_mean_squared_error: 4.2113 - val_mean_absolute_error: 2.9968\n",
            "Epoch 83/100\n",
            "48/48 [==============================] - 4s 87ms/step - loss: 17.2798 - root_mean_squared_error: 4.1569 - mean_absolute_error: 2.5592 - val_loss: 16.1105 - val_root_mean_squared_error: 4.0138 - val_mean_absolute_error: 2.8406\n",
            "Epoch 84/100\n",
            "48/48 [==============================] - 4s 88ms/step - loss: 16.7581 - root_mean_squared_error: 4.0937 - mean_absolute_error: 2.4825 - val_loss: 16.4355 - val_root_mean_squared_error: 4.0541 - val_mean_absolute_error: 2.9316\n",
            "Epoch 85/100\n",
            "48/48 [==============================] - 4s 89ms/step - loss: 16.9990 - root_mean_squared_error: 4.1230 - mean_absolute_error: 2.5252 - val_loss: 14.1487 - val_root_mean_squared_error: 3.7615 - val_mean_absolute_error: 2.7235\n",
            "Epoch 86/100\n",
            "48/48 [==============================] - 4s 87ms/step - loss: 16.1023 - root_mean_squared_error: 4.0128 - mean_absolute_error: 2.4395 - val_loss: 15.1304 - val_root_mean_squared_error: 3.8898 - val_mean_absolute_error: 2.8364\n",
            "Epoch 87/100\n",
            "48/48 [==============================] - 4s 89ms/step - loss: 15.3392 - root_mean_squared_error: 3.9165 - mean_absolute_error: 2.4072 - val_loss: 16.7325 - val_root_mean_squared_error: 4.0905 - val_mean_absolute_error: 3.0962\n",
            "Epoch 88/100\n",
            "48/48 [==============================] - 4s 88ms/step - loss: 15.2812 - root_mean_squared_error: 3.9091 - mean_absolute_error: 2.4441 - val_loss: 15.2164 - val_root_mean_squared_error: 3.9008 - val_mean_absolute_error: 2.9498\n",
            "Epoch 89/100\n",
            "48/48 [==============================] - 4s 89ms/step - loss: 15.3265 - root_mean_squared_error: 3.9149 - mean_absolute_error: 2.4134 - val_loss: 17.2093 - val_root_mean_squared_error: 4.1484 - val_mean_absolute_error: 3.2333\n",
            "Epoch 90/100\n",
            "48/48 [==============================] - 4s 90ms/step - loss: 15.8568 - root_mean_squared_error: 3.9821 - mean_absolute_error: 2.4601 - val_loss: 14.6528 - val_root_mean_squared_error: 3.8279 - val_mean_absolute_error: 2.9469\n",
            "Epoch 91/100\n",
            "48/48 [==============================] - 4s 89ms/step - loss: 14.9577 - root_mean_squared_error: 3.8675 - mean_absolute_error: 2.4815 - val_loss: 16.7676 - val_root_mean_squared_error: 4.0948 - val_mean_absolute_error: 3.1989\n",
            "Epoch 92/100\n",
            "48/48 [==============================] - 4s 88ms/step - loss: 15.1945 - root_mean_squared_error: 3.8980 - mean_absolute_error: 2.4033 - val_loss: 13.2620 - val_root_mean_squared_error: 3.6417 - val_mean_absolute_error: 2.8046\n",
            "Epoch 93/100\n",
            "48/48 [==============================] - 4s 88ms/step - loss: 14.0903 - root_mean_squared_error: 3.7537 - mean_absolute_error: 2.3703 - val_loss: 17.9328 - val_root_mean_squared_error: 4.2347 - val_mean_absolute_error: 3.3251\n",
            "Epoch 94/100\n",
            "48/48 [==============================] - 4s 88ms/step - loss: 14.1381 - root_mean_squared_error: 3.7601 - mean_absolute_error: 2.3618 - val_loss: 25.1152 - val_root_mean_squared_error: 5.0115 - val_mean_absolute_error: 4.0311\n",
            "Epoch 95/100\n",
            "48/48 [==============================] - 4s 88ms/step - loss: 14.1631 - root_mean_squared_error: 3.7634 - mean_absolute_error: 2.3794 - val_loss: 21.9794 - val_root_mean_squared_error: 4.6882 - val_mean_absolute_error: 3.7269\n",
            "Epoch 96/100\n",
            "48/48 [==============================] - 4s 87ms/step - loss: 13.3119 - root_mean_squared_error: 3.6485 - mean_absolute_error: 2.3068 - val_loss: 15.8783 - val_root_mean_squared_error: 3.9848 - val_mean_absolute_error: 3.1930\n",
            "Epoch 97/100\n",
            "48/48 [==============================] - 4s 89ms/step - loss: 13.7103 - root_mean_squared_error: 3.7027 - mean_absolute_error: 2.3469 - val_loss: 20.3175 - val_root_mean_squared_error: 4.5075 - val_mean_absolute_error: 3.6675\n",
            "Epoch 98/100\n",
            "48/48 [==============================] - 4s 89ms/step - loss: 13.8809 - root_mean_squared_error: 3.7257 - mean_absolute_error: 2.3553 - val_loss: 12.7948 - val_root_mean_squared_error: 3.5770 - val_mean_absolute_error: 2.7132\n",
            "Epoch 99/100\n",
            "48/48 [==============================] - 4s 90ms/step - loss: 14.3607 - root_mean_squared_error: 3.7896 - mean_absolute_error: 2.3924 - val_loss: 10.8004 - val_root_mean_squared_error: 3.2864 - val_mean_absolute_error: 2.4683\n",
            "Epoch 100/100\n",
            "48/48 [==============================] - 4s 92ms/step - loss: 14.1835 - root_mean_squared_error: 3.7661 - mean_absolute_error: 2.3616 - val_loss: 13.8223 - val_root_mean_squared_error: 3.7178 - val_mean_absolute_error: 2.8619\n"
          ]
        },
        {
          "output_type": "execute_result",
          "data": {
            "text/plain": [
              "<keras.callbacks.History at 0x7fe674db6640>"
            ]
          },
          "metadata": {},
          "execution_count": 38
        }
      ]
    },
    {
      "cell_type": "markdown",
      "source": [
        "##Model Forecasting"
      ],
      "metadata": {
        "id": "rmILvrcnp70a"
      }
    },
    {
      "cell_type": "code",
      "source": [
        "# make a single prediction\n",
        "def forecast(model, history, n_input):\n",
        "\t# flatten data\n",
        "\tdata = np.array(history)\n",
        "\tdata = data.reshape((data.shape[0]*data.shape[1], data.shape[2]))\n",
        "\t\n",
        "  # retrieve last observations for input data\n",
        "\tinput_x = data[-n_input:, 0]\n",
        "\n",
        "  # reshape into [1, n_input, 1]\n",
        "\tinput_x = input_x.reshape((1, len(input_x), 1))\n",
        "\n",
        "  # forecast the next week\n",
        "\tpredicted_y = model.predict(input_x, verbose=0)\n",
        "\n",
        "  # we only want the vector forecast\n",
        "\tpredicted_y = predicted_y[0]\n",
        "\treturn predicted_y"
      ],
      "metadata": {
        "id": "K8gA22l4fpvt"
      },
      "execution_count": null,
      "outputs": []
    },
    {
      "cell_type": "code",
      "source": [
        "# To start evaluating our model, we can start from the last week in our training data\n",
        "history = [x for x in X_train] # converting history into a list\n",
        "n_input = 7\n",
        "\n",
        "# We do walk-forward validation for each week\n",
        "predictions = []\n",
        "\t\n",
        "for i in range(len(X_test)):\n",
        "\t# predict the week\n",
        "\ty_predicted = forecast(model, history, n_input) \n",
        "\t# collect predictions\n",
        "\tpredictions.append(y_predicted)\n",
        "\t# get real observation and add it to my history \n",
        "\thistory.append(X_test[i,:])"
      ],
      "metadata": {
        "id": "A2FEfimA0Gwo"
      },
      "execution_count": null,
      "outputs": []
    },
    {
      "cell_type": "code",
      "source": [
        "#Recall data statistics\n",
        "\n",
        "print(X_train.shape)\n",
        "print(y_train.shape)\n",
        "print(X_test.shape)\n",
        "print(y_test.shape)"
      ],
      "metadata": {
        "colab": {
          "base_uri": "https://localhost:8080/"
        },
        "id": "rMYqxk7NhW_Z",
        "outputId": "f0e4d15f-73de-4943-f444-b1c60b7f07b5"
      },
      "execution_count": null,
      "outputs": [
        {
          "output_type": "stream",
          "name": "stdout",
          "text": [
            "(6090, 7, 1)\n",
            "(6090, 7)\n",
            "(1519, 7, 1)\n",
            "(1519, 7)\n"
          ]
        }
      ]
    },
    {
      "cell_type": "code",
      "source": [
        "#viewing one example of the generated predictions\n",
        "y_predicted"
      ],
      "metadata": {
        "colab": {
          "base_uri": "https://localhost:8080/"
        },
        "id": "TIqijz_Ghtg4",
        "outputId": "d186a4c2-3fb3-4fe9-c4a5-789b4b909ccd"
      },
      "execution_count": null,
      "outputs": [
        {
          "output_type": "execute_result",
          "data": {
            "text/plain": [
              "array([47.966103, 48.18417 , 48.01706 , 48.075848, 48.154102, 48.30038 ,\n",
              "       48.1484  ], dtype=float32)"
            ]
          },
          "metadata": {},
          "execution_count": 41
        }
      ]
    },
    {
      "cell_type": "markdown",
      "source": [
        "\n",
        "\n",
        "---\n",
        "\n"
      ],
      "metadata": {
        "id": "_prHqwi100cB"
      }
    },
    {
      "cell_type": "markdown",
      "source": [
        "##Model Evaluation"
      ],
      "metadata": {
        "id": "OJy2RVjMq3eA"
      }
    },
    {
      "cell_type": "code",
      "source": [
        "from sklearn.metrics import mean_squared_error\n",
        "\n",
        "# Now, we want to evaluate our model\n",
        "predictions = np.array(predictions) # converting from list to np.array\n",
        "\n",
        "# But we want to see how well our model is doing day by day \n",
        "scores = []\n",
        "# calculate an RMSE score for each day\n",
        "for i in range(y_test.shape[1]): # Loop over the days of each week (shape[1] refers to the days)\n",
        "  # calculate mse for each day\n",
        "  mse = mean_squared_error(y_test[:, i], predictions[:, i])\n",
        "  rmse = np.sqrt(mse)\n",
        "\t# store\n",
        "  scores.append(rmse)\n",
        " \n",
        "# calculate overall RMSE for the entire week\n",
        "weekly_score = np.array(scores).mean()\n",
        "print('weekly score is: ', weekly_score )"
      ],
      "metadata": {
        "colab": {
          "base_uri": "https://localhost:8080/"
        },
        "id": "enLBrtDxhx88",
        "outputId": "70f49a12-f1b4-40ba-e5b3-94a044a47b11"
      },
      "execution_count": null,
      "outputs": [
        {
          "output_type": "stream",
          "name": "stdout",
          "text": [
            "weekly score is:  3.936025278777599\n"
          ]
        }
      ]
    },
    {
      "cell_type": "code",
      "source": [
        "# print and plot scores\n",
        "days = ['mon', 'tue', 'wed', 'thr', 'fri', 'sat', 'sun']\n",
        "print('[AVG] %s: \\n [%.3f] %s' % (days, weekly_score, scores))\n",
        "\n",
        "plt.plot(days, scores, marker='o', label='lstm')\n",
        "plt.show()"
      ],
      "metadata": {
        "colab": {
          "base_uri": "https://localhost:8080/",
          "height": 519
        },
        "id": "DFQ9kG0ciGAq",
        "outputId": "47fa76a9-0742-43a2-9b04-5d3e86915f6f"
      },
      "execution_count": null,
      "outputs": [
        {
          "output_type": "stream",
          "name": "stdout",
          "text": [
            "[AVG] ['mon', 'tue', 'wed', 'thr', 'fri', 'sat', 'sun']: \n",
            " [3.936] [3.1903893749984165, 3.478976732434226, 3.792506456484936, 3.9563077576618406, 4.044569291856828, 4.434637354890302, 4.654789983116642]\n"
          ]
        },
        {
          "output_type": "display_data",
          "data": {
            "text/plain": [
              "<Figure size 1152x576 with 1 Axes>"
            ],
            "image/png": "[encoded data removed]"
          },
          "metadata": {
            "needs_background": "light"
          }
        }
      ]
    },
    {
      "cell_type": "markdown",
      "source": [
        "\n",
        "\n",
        "---\n",
        "\n"
      ],
      "metadata": {
        "id": "VBdOtMrD1Su0"
      }
    },
    {
      "cell_type": "markdown",
      "source": [
        "##Visual validation of model performance: Predictions versus Observations"
      ],
      "metadata": {
        "id": "5sDslq-trQVX"
      }
    },
    {
      "cell_type": "code",
      "source": [
        "# storing observations and model outputs in dataframes\n",
        "true = pd.DataFrame(y_test[:,0]) # first day 2011-06-01\n",
        "pred = pd.DataFrame(predictions[:,0])"
      ],
      "metadata": {
        "id": "xTDt-YB4rRcg"
      },
      "execution_count": null,
      "outputs": []
    },
    {
      "cell_type": "code",
      "source": [
        "true"
      ],
      "metadata": {
        "colab": {
          "base_uri": "https://localhost:8080/",
          "height": 423
        },
        "id": "BR0oskny3XI9",
        "outputId": "2b797b13-53bd-4386-dc12-7f8ff54b500b"
      },
      "execution_count": null,
      "outputs": [
        {
          "output_type": "execute_result",
          "data": {
            "text/plain": [
              "           0\n",
              "0     118.71\n",
              "1     120.49\n",
              "2     120.35\n",
              "3     114.67\n",
              "4     114.69\n",
              "...      ...\n",
              "1514   48.25\n",
              "1515   48.11\n",
              "1516   47.08\n",
              "1517   46.30\n",
              "1518   46.64\n",
              "\n",
              "[1519 rows x 1 columns]"
            ],
            "text/html": [
              "\n",
              "  <div id=\"df-e163a154-39d9-4111-b72b-0312d5af4371\">\n",
              "    <div class=\"colab-df-container\">\n",
              "      <div>\n",
              "<style scoped>\n",
              "    .dataframe tbody tr th:only-of-type {\n",
              "        vertical-align: middle;\n",
              "    }\n",
              "\n",
              "    .dataframe tbody tr th {\n",
              "        vertical-align: top;\n",
              "    }\n",
              "\n",
              "    .dataframe thead th {\n",
              "        text-align: right;\n",
              "    }\n",
              "</style>\n",
              "<table border=\"1\" class=\"dataframe\">\n",
              "  <thead>\n",
              "    <tr style=\"text-align: right;\">\n",
              "      <th></th>\n",
              "      <th>0</th>\n",
              "    </tr>\n",
              "  </thead>\n",
              "  <tbody>\n",
              "    <tr>\n",
              "      <th>0</th>\n",
              "      <td>118.71</td>\n",
              "    </tr>\n",
              "    <tr>\n",
              "      <th>1</th>\n",
              "      <td>120.49</td>\n",
              "    </tr>\n",
              "    <tr>\n",
              "      <th>2</th>\n",
              "      <td>120.35</td>\n",
              "    </tr>\n",
              "    <tr>\n",
              "      <th>3</th>\n",
              "      <td>114.67</td>\n",
              "    </tr>\n",
              "    <tr>\n",
              "      <th>4</th>\n",
              "      <td>114.69</td>\n",
              "    </tr>\n",
              "    <tr>\n",
              "      <th>...</th>\n",
              "      <td>...</td>\n",
              "    </tr>\n",
              "    <tr>\n",
              "      <th>1514</th>\n",
              "      <td>48.25</td>\n",
              "    </tr>\n",
              "    <tr>\n",
              "      <th>1515</th>\n",
              "      <td>48.11</td>\n",
              "    </tr>\n",
              "    <tr>\n",
              "      <th>1516</th>\n",
              "      <td>47.08</td>\n",
              "    </tr>\n",
              "    <tr>\n",
              "      <th>1517</th>\n",
              "      <td>46.30</td>\n",
              "    </tr>\n",
              "    <tr>\n",
              "      <th>1518</th>\n",
              "      <td>46.64</td>\n",
              "    </tr>\n",
              "  </tbody>\n",
              "</table>\n",
              "<p>1519 rows × 1 columns</p>\n",
              "</div>\n",
              "      <button class=\"colab-df-convert\" onclick=\"convertToInteractive('df-e163a154-39d9-4111-b72b-0312d5af4371')\"\n",
              "              title=\"Convert this dataframe to an interactive table.\"\n",
              "              style=\"display:none;\">\n",
              "        \n",
              "  <svg xmlns=\"http://www.w3.org/2000/svg\" height=\"24px\"viewBox=\"0 0 24 24\"\n",
              "       width=\"24px\">\n",
              "    <path d=\"M0 0h24v24H0V0z\" fill=\"none\"/>\n",
              "    <path d=\"M18.56 5.44l.94 2.06.94-2.06 2.06-.94-2.06-.94-.94-2.06-.94 2.06-2.06.94zm-11 1L8.5 8.5l.94-2.06 2.06-.94-2.06-.94L8.5 2.5l-.94 2.06-2.06.94zm10 10l.94 2.06.94-2.06 2.06-.94-2.06-.94-.94-2.06-.94 2.06-2.06.94z\"/><path d=\"M17.41 7.96l-1.37-1.37c-.4-.4-.92-.59-1.43-.59-.52 0-1.04.2-1.43.59L10.3 9.45l-7.72 7.72c-.78.78-.78 2.05 0 2.83L4 21.41c.39.39.9.59 1.41.59.51 0 1.02-.2 1.41-.59l7.78-7.78 2.81-2.81c.8-.78.8-2.07 0-2.86zM5.41 20L4 18.59l7.72-7.72 1.47 1.35L5.41 20z\"/>\n",
              "  </svg>\n",
              "      </button>\n",
              "      \n",
              "  <style>\n",
              "    .colab-df-container {\n",
              "      display:flex;\n",
              "      flex-wrap:wrap;\n",
              "      gap: 12px;\n",
              "    }\n",
              "\n",
              "    .colab-df-convert {\n",
              "      background-color: #E8F0FE;\n",
              "      border: none;\n",
              "      border-radius: 50%;\n",
              "      cursor: pointer;\n",
              "      display: none;\n",
              "      fill: #1967D2;\n",
              "      height: 32px;\n",
              "      padding: 0 0 0 0;\n",
              "      width: 32px;\n",
              "    }\n",
              "\n",
              "    .colab-df-convert:hover {\n",
              "      background-color: #E2EBFA;\n",
              "      box-shadow: 0px 1px 2px rgba(60, 64, 67, 0.3), 0px 1px 3px 1px rgba(60, 64, 67, 0.15);\n",
              "      fill: #174EA6;\n",
              "    }\n",
              "\n",
              "    [theme=dark] .colab-df-convert {\n",
              "      background-color: #3B4455;\n",
              "      fill: #D2E3FC;\n",
              "    }\n",
              "\n",
              "    [theme=dark] .colab-df-convert:hover {\n",
              "      background-color: #434B5C;\n",
              "      box-shadow: 0px 1px 3px 1px rgba(0, 0, 0, 0.15);\n",
              "      filter: drop-shadow(0px 1px 2px rgba(0, 0, 0, 0.3));\n",
              "      fill: #FFFFFF;\n",
              "    }\n",
              "  </style>\n",
              "\n",
              "      <script>\n",
              "        const buttonEl =\n",
              "          document.querySelector('#df-e163a154-39d9-4111-b72b-0312d5af4371 button.colab-df-convert');\n",
              "        buttonEl.style.display =\n",
              "          google.colab.kernel.accessAllowed ? 'block' : 'none';\n",
              "\n",
              "        async function convertToInteractive(key) {\n",
              "          const element = document.querySelector('#df-e163a154-39d9-4111-b72b-0312d5af4371');\n",
              "          const dataTable =\n",
              "            await google.colab.kernel.invokeFunction('convertToInteractive',\n",
              "                                                     [key], {});\n",
              "          if (!dataTable) return;\n",
              "\n",
              "          const docLinkHtml = 'Like what you see? Visit the ' +\n",
              "            '<a target=\"_blank\" href=https://colab.research.google.com/notebooks/data_table.ipynb>data table notebook</a>'\n",
              "            + ' to learn more about interactive tables.';\n",
              "          element.innerHTML = '';\n",
              "          dataTable['output_type'] = 'display_data';\n",
              "          await google.colab.output.renderOutput(dataTable, element);\n",
              "          const docLink = document.createElement('div');\n",
              "          docLink.innerHTML = docLinkHtml;\n",
              "          element.appendChild(docLink);\n",
              "        }\n",
              "      </script>\n",
              "    </div>\n",
              "  </div>\n",
              "  "
            ]
          },
          "metadata": {},
          "execution_count": 45
        }
      ]
    },
    {
      "cell_type": "code",
      "source": [
        "pred"
      ],
      "metadata": {
        "colab": {
          "base_uri": "https://localhost:8080/",
          "height": 423
        },
        "id": "KCGeEHg8iOt3",
        "outputId": "adaf7955-89ff-4e80-847a-3d735a8c50be"
      },
      "execution_count": null,
      "outputs": [
        {
          "output_type": "execute_result",
          "data": {
            "text/plain": [
              "               0\n",
              "0     115.786751\n",
              "1     117.038475\n",
              "2     117.063499\n",
              "3     117.080231\n",
              "4     117.090103\n",
              "...          ...\n",
              "1514   50.618538\n",
              "1515   49.804108\n",
              "1516   49.145569\n",
              "1517   48.705917\n",
              "1518   47.966103\n",
              "\n",
              "[1519 rows x 1 columns]"
            ],
            "text/html": [
              "\n",
              "  <div id=\"df-b97b1456-42b2-4d3c-bfd6-648d853a9126\">\n",
              "    <div class=\"colab-df-container\">\n",
              "      <div>\n",
              "<style scoped>\n",
              "    .dataframe tbody tr th:only-of-type {\n",
              "        vertical-align: middle;\n",
              "    }\n",
              "\n",
              "    .dataframe tbody tr th {\n",
              "        vertical-align: top;\n",
              "    }\n",
              "\n",
              "    .dataframe thead th {\n",
              "        text-align: right;\n",
              "    }\n",
              "</style>\n",
              "<table border=\"1\" class=\"dataframe\">\n",
              "  <thead>\n",
              "    <tr style=\"text-align: right;\">\n",
              "      <th></th>\n",
              "      <th>0</th>\n",
              "    </tr>\n",
              "  </thead>\n",
              "  <tbody>\n",
              "    <tr>\n",
              "      <th>0</th>\n",
              "      <td>115.786751</td>\n",
              "    </tr>\n",
              "    <tr>\n",
              "      <th>1</th>\n",
              "      <td>117.038475</td>\n",
              "    </tr>\n",
              "    <tr>\n",
              "      <th>2</th>\n",
              "      <td>117.063499</td>\n",
              "    </tr>\n",
              "    <tr>\n",
              "      <th>3</th>\n",
              "      <td>117.080231</td>\n",
              "    </tr>\n",
              "    <tr>\n",
              "      <th>4</th>\n",
              "      <td>117.090103</td>\n",
              "    </tr>\n",
              "    <tr>\n",
              "      <th>...</th>\n",
              "      <td>...</td>\n",
              "    </tr>\n",
              "    <tr>\n",
              "      <th>1514</th>\n",
              "      <td>50.618538</td>\n",
              "    </tr>\n",
              "    <tr>\n",
              "      <th>1515</th>\n",
              "      <td>49.804108</td>\n",
              "    </tr>\n",
              "    <tr>\n",
              "      <th>1516</th>\n",
              "      <td>49.145569</td>\n",
              "    </tr>\n",
              "    <tr>\n",
              "      <th>1517</th>\n",
              "      <td>48.705917</td>\n",
              "    </tr>\n",
              "    <tr>\n",
              "      <th>1518</th>\n",
              "      <td>47.966103</td>\n",
              "    </tr>\n",
              "  </tbody>\n",
              "</table>\n",
              "<p>1519 rows × 1 columns</p>\n",
              "</div>\n",
              "      <button class=\"colab-df-convert\" onclick=\"convertToInteractive('df-b97b1456-42b2-4d3c-bfd6-648d853a9126')\"\n",
              "              title=\"Convert this dataframe to an interactive table.\"\n",
              "              style=\"display:none;\">\n",
              "        \n",
              "  <svg xmlns=\"http://www.w3.org/2000/svg\" height=\"24px\"viewBox=\"0 0 24 24\"\n",
              "       width=\"24px\">\n",
              "    <path d=\"M0 0h24v24H0V0z\" fill=\"none\"/>\n",
              "    <path d=\"M18.56 5.44l.94 2.06.94-2.06 2.06-.94-2.06-.94-.94-2.06-.94 2.06-2.06.94zm-11 1L8.5 8.5l.94-2.06 2.06-.94-2.06-.94L8.5 2.5l-.94 2.06-2.06.94zm10 10l.94 2.06.94-2.06 2.06-.94-2.06-.94-.94-2.06-.94 2.06-2.06.94z\"/><path d=\"M17.41 7.96l-1.37-1.37c-.4-.4-.92-.59-1.43-.59-.52 0-1.04.2-1.43.59L10.3 9.45l-7.72 7.72c-.78.78-.78 2.05 0 2.83L4 21.41c.39.39.9.59 1.41.59.51 0 1.02-.2 1.41-.59l7.78-7.78 2.81-2.81c.8-.78.8-2.07 0-2.86zM5.41 20L4 18.59l7.72-7.72 1.47 1.35L5.41 20z\"/>\n",
              "  </svg>\n",
              "      </button>\n",
              "      \n",
              "  <style>\n",
              "    .colab-df-container {\n",
              "      display:flex;\n",
              "      flex-wrap:wrap;\n",
              "      gap: 12px;\n",
              "    }\n",
              "\n",
              "    .colab-df-convert {\n",
              "      background-color: #E8F0FE;\n",
              "      border: none;\n",
              "      border-radius: 50%;\n",
              "      cursor: pointer;\n",
              "      display: none;\n",
              "      fill: #1967D2;\n",
              "      height: 32px;\n",
              "      padding: 0 0 0 0;\n",
              "      width: 32px;\n",
              "    }\n",
              "\n",
              "    .colab-df-convert:hover {\n",
              "      background-color: #E2EBFA;\n",
              "      box-shadow: 0px 1px 2px rgba(60, 64, 67, 0.3), 0px 1px 3px 1px rgba(60, 64, 67, 0.15);\n",
              "      fill: #174EA6;\n",
              "    }\n",
              "\n",
              "    [theme=dark] .colab-df-convert {\n",
              "      background-color: #3B4455;\n",
              "      fill: #D2E3FC;\n",
              "    }\n",
              "\n",
              "    [theme=dark] .colab-df-convert:hover {\n",
              "      background-color: #434B5C;\n",
              "      box-shadow: 0px 1px 3px 1px rgba(0, 0, 0, 0.15);\n",
              "      filter: drop-shadow(0px 1px 2px rgba(0, 0, 0, 0.3));\n",
              "      fill: #FFFFFF;\n",
              "    }\n",
              "  </style>\n",
              "\n",
              "      <script>\n",
              "        const buttonEl =\n",
              "          document.querySelector('#df-b97b1456-42b2-4d3c-bfd6-648d853a9126 button.colab-df-convert');\n",
              "        buttonEl.style.display =\n",
              "          google.colab.kernel.accessAllowed ? 'block' : 'none';\n",
              "\n",
              "        async function convertToInteractive(key) {\n",
              "          const element = document.querySelector('#df-b97b1456-42b2-4d3c-bfd6-648d853a9126');\n",
              "          const dataTable =\n",
              "            await google.colab.kernel.invokeFunction('convertToInteractive',\n",
              "                                                     [key], {});\n",
              "          if (!dataTable) return;\n",
              "\n",
              "          const docLinkHtml = 'Like what you see? Visit the ' +\n",
              "            '<a target=\"_blank\" href=https://colab.research.google.com/notebooks/data_table.ipynb>data table notebook</a>'\n",
              "            + ' to learn more about interactive tables.';\n",
              "          element.innerHTML = '';\n",
              "          dataTable['output_type'] = 'display_data';\n",
              "          await google.colab.output.renderOutput(dataTable, element);\n",
              "          const docLink = document.createElement('div');\n",
              "          docLink.innerHTML = docLinkHtml;\n",
              "          element.appendChild(docLink);\n",
              "        }\n",
              "      </script>\n",
              "    </div>\n",
              "  </div>\n",
              "  "
            ]
          },
          "metadata": {},
          "execution_count": 46
        }
      ]
    },
    {
      "cell_type": "code",
      "source": [
        "#Getting the date of the bginning of test data\n",
        "df_lstm.iloc[6104]"
      ],
      "metadata": {
        "colab": {
          "base_uri": "https://localhost:8080/"
        },
        "id": "2CkQ9M0a5KnA",
        "outputId": "ce1ab851-857f-445c-d966-efb6e0f29e96"
      },
      "execution_count": null,
      "outputs": [
        {
          "output_type": "execute_result",
          "data": {
            "text/plain": [
              "Date     2011-06-01 00:00:00\n",
              "Price                 116.15\n",
              "Name: 6104, dtype: object"
            ]
          },
          "metadata": {},
          "execution_count": 37
        }
      ]
    },
    {
      "cell_type": "code",
      "source": [
        "# creating a datetime index for the dataframes\n",
        "dti = pd.date_range('2011-06-01', periods=1517, freq='D') # first day of test samples: 2011-06-01"
      ],
      "metadata": {
        "id": "KRC8kLxPrU-G"
      },
      "execution_count": null,
      "outputs": []
    },
    {
      "cell_type": "code",
      "source": [
        "dti"
      ],
      "metadata": {
        "colab": {
          "base_uri": "https://localhost:8080/"
        },
        "id": "pHgafP4o4mAS",
        "outputId": "eba63dc7-764b-4298-ccf8-d9e4e68c6bd7"
      },
      "execution_count": null,
      "outputs": [
        {
          "output_type": "execute_result",
          "data": {
            "text/plain": [
              "DatetimeIndex(['2011-06-01', '2011-06-02', '2011-06-03', '2011-06-04',\n",
              "               '2011-06-05', '2011-06-06', '2011-06-07', '2011-06-08',\n",
              "               '2011-06-09', '2011-06-10',\n",
              "               ...\n",
              "               '2015-07-17', '2015-07-18', '2015-07-19', '2015-07-20',\n",
              "               '2015-07-21', '2015-07-22', '2015-07-23', '2015-07-24',\n",
              "               '2015-07-25', '2015-07-26'],\n",
              "              dtype='datetime64[ns]', length=1517, freq='D')"
            ]
          },
          "metadata": {},
          "execution_count": 48
        }
      ]
    },
    {
      "cell_type": "code",
      "source": [
        "# overlay observed sequence and predicted sequence\n",
        "ax = true.plot()\n",
        "pred.plot(ax=ax, alpha=.8, figsize=(35, 7))\n",
        "\n",
        "xi = list(range(len(dti)))\n",
        "plt.xticks(np.arange(min(xi), max(xi), 50), dti.date[np.arange(min(xi), max(xi), 50)])\n",
        "\n",
        "ax.set_xlabel('Date')\n",
        "ax.set_ylabel('Oil Price')\n",
        "plt.legend(['observed','predictions'])\n",
        "plt.show()"
      ],
      "metadata": {
        "colab": {
          "base_uri": "https://localhost:8080/",
          "height": 324
        },
        "id": "AZtw1R5yiY8X",
        "outputId": "c91b1b1d-af05-440b-e0bc-654a77edcbe8"
      },
      "execution_count": null,
      "outputs": [
        {
          "output_type": "display_data",
          "data": {
            "text/plain": [
              "<Figure size 2520x504 with 1 Axes>"
            ],
            "image/png": "[encoded data removed]"
          },
          "metadata": {
            "needs_background": "light"
          }
        }
      ]
    },
    {
      "cell_type": "markdown",
      "source": [
        "**Significant results!**"
      ],
      "metadata": {
        "id": "n3MMJL7886FR"
      }
    }
  ],
  "metadata": {
    "colab": {
      "toc_visible": true,
      "provenance": [],
      "collapsed_sections": [
        "-Ydv-dGlMxaH",
        "uNTFzLZPT-Qe",
        "Cwj2uWQ_Urc4",
        "bRPpp3IzbHTN",
        "1WGA6mTbSwmu",
        "sFbPA0JLS5r5"
      ],
      "authorship_tag": "ABX9TyOVAsMGkRin526l1/msr7ST",
      "include_colab_link": true
    },
    "kernelspec": {
      "display_name": "Python 3",
      "name": "python3"
    },
    "language_info": {
      "name": "python"
    }
  },
  "nbformat": 4,
  "nbformat_minor": 0
}